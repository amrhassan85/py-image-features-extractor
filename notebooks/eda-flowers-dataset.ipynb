{
 "cells": [
  {
   "cell_type": "markdown",
   "metadata": {},
   "source": [
    "# Flowers Dataset: Exploratory Data Analysis"
   ]
  },
  {
   "cell_type": "code",
   "execution_count": 30,
   "metadata": {},
   "outputs": [],
   "source": [
    "import cv2\n",
    "import os\n",
    "import pandas as pd\n",
    "\n",
    "from typing import Dict, List"
   ]
  },
  {
   "cell_type": "code",
   "execution_count": 2,
   "metadata": {},
   "outputs": [
    {
     "data": {
      "text/plain": [
       "['val', 'test', 'train']"
      ]
     },
     "execution_count": 2,
     "metadata": {},
     "output_type": "execute_result"
    }
   ],
   "source": [
    "base_path = '../../datasets/flowers/102flowers/images'\n",
    "os.listdir(base_path)"
   ]
  },
  {
   "cell_type": "markdown",
   "metadata": {},
   "source": [
    "## Explore data splits"
   ]
  },
  {
   "cell_type": "code",
   "execution_count": 7,
   "metadata": {},
   "outputs": [],
   "source": [
    "def get_images_per_label(path: str) -> Dict:\n",
    "    index = {}\n",
    "    for label_folder in os.listdir(path):\n",
    "        index[label_folder] = len(os.listdir(os.path.join(path, label_folder)))\n",
    "        \n",
    "    return index"
   ]
  },
  {
   "cell_type": "code",
   "execution_count": 8,
   "metadata": {},
   "outputs": [],
   "source": [
    "train = get_images_per_label(os.path.join(base_path, 'train'))\n",
    "val = get_images_per_label(os.path.join(base_path, 'val'))\n",
    "test = get_images_per_label(os.path.join(base_path, 'test'))"
   ]
  },
  {
   "cell_type": "code",
   "execution_count": 17,
   "metadata": {},
   "outputs": [],
   "source": [
    "samples_per_label = pd.DataFrame({\n",
    "    'train': [i for i in train.values()],\n",
    "    'val': [i for i in val.values()],\n",
    "    'test': [i for i in test.values()]\n",
    "})"
   ]
  },
  {
   "cell_type": "code",
   "execution_count": 20,
   "metadata": {},
   "outputs": [
    {
     "data": {
      "text/html": [
       "<div>\n",
       "<style scoped>\n",
       "    .dataframe tbody tr th:only-of-type {\n",
       "        vertical-align: middle;\n",
       "    }\n",
       "\n",
       "    .dataframe tbody tr th {\n",
       "        vertical-align: top;\n",
       "    }\n",
       "\n",
       "    .dataframe thead th {\n",
       "        text-align: right;\n",
       "    }\n",
       "</style>\n",
       "<table border=\"1\" class=\"dataframe\">\n",
       "  <thead>\n",
       "    <tr style=\"text-align: right;\">\n",
       "      <th></th>\n",
       "      <th>train</th>\n",
       "      <th>val</th>\n",
       "      <th>test</th>\n",
       "    </tr>\n",
       "  </thead>\n",
       "  <tbody>\n",
       "    <tr>\n",
       "      <th>count</th>\n",
       "      <td>102.0</td>\n",
       "      <td>102.0</td>\n",
       "      <td>102.000000</td>\n",
       "    </tr>\n",
       "    <tr>\n",
       "      <th>mean</th>\n",
       "      <td>10.0</td>\n",
       "      <td>10.0</td>\n",
       "      <td>60.284314</td>\n",
       "    </tr>\n",
       "    <tr>\n",
       "      <th>std</th>\n",
       "      <td>0.0</td>\n",
       "      <td>0.0</td>\n",
       "      <td>44.276891</td>\n",
       "    </tr>\n",
       "    <tr>\n",
       "      <th>min</th>\n",
       "      <td>10.0</td>\n",
       "      <td>10.0</td>\n",
       "      <td>20.000000</td>\n",
       "    </tr>\n",
       "    <tr>\n",
       "      <th>25%</th>\n",
       "      <td>10.0</td>\n",
       "      <td>10.0</td>\n",
       "      <td>29.000000</td>\n",
       "    </tr>\n",
       "    <tr>\n",
       "      <th>50%</th>\n",
       "      <td>10.0</td>\n",
       "      <td>10.0</td>\n",
       "      <td>46.000000</td>\n",
       "    </tr>\n",
       "    <tr>\n",
       "      <th>75%</th>\n",
       "      <td>10.0</td>\n",
       "      <td>10.0</td>\n",
       "      <td>72.750000</td>\n",
       "    </tr>\n",
       "    <tr>\n",
       "      <th>max</th>\n",
       "      <td>10.0</td>\n",
       "      <td>10.0</td>\n",
       "      <td>238.000000</td>\n",
       "    </tr>\n",
       "  </tbody>\n",
       "</table>\n",
       "</div>"
      ],
      "text/plain": [
       "       train    val        test\n",
       "count  102.0  102.0  102.000000\n",
       "mean    10.0   10.0   60.284314\n",
       "std      0.0    0.0   44.276891\n",
       "min     10.0   10.0   20.000000\n",
       "25%     10.0   10.0   29.000000\n",
       "50%     10.0   10.0   46.000000\n",
       "75%     10.0   10.0   72.750000\n",
       "max     10.0   10.0  238.000000"
      ]
     },
     "execution_count": 20,
     "metadata": {},
     "output_type": "execute_result"
    }
   ],
   "source": [
    "samples_per_label.describe()"
   ]
  },
  {
   "cell_type": "code",
   "execution_count": 28,
   "metadata": {},
   "outputs": [
    {
     "data": {
      "text/plain": [
       "<matplotlib.axes._subplots.AxesSubplot at 0x7fbfcd4cb750>"
      ]
     },
     "execution_count": 28,
     "metadata": {},
     "output_type": "execute_result"
    },
    {
     "data": {
      "image/png": "[encoded data removed]",
      "text/plain": [
       "<Figure size 1440x720 with 1 Axes>"
      ]
     },
     "metadata": {
      "needs_background": "light"
     },
     "output_type": "display_data"
    }
   ],
   "source": [
    "samples_per_label.boxplot(column=['train', 'val', 'test'], figsize=(20,10))"
   ]
  },
  {
   "cell_type": "markdown",
   "metadata": {},
   "source": [
    "## Explore image sizes"
   ]
  },
  {
   "cell_type": "code",
   "execution_count": 31,
   "metadata": {},
   "outputs": [],
   "source": [
    "def get_image_sizes(path: str) -> List:\n",
    "    heights = []\n",
    "    widths = []\n",
    "    depths = []\n",
    "    \n",
    "    for label_folder in os.listdir(path):\n",
    "        folder_path = os.path.join(path, label_folder)\n",
    "        for image_name in os.listdir(folder_path):\n",
    "            image_path = os.path.join(folder_path, image_name)\n",
    "            image = cv2.imread(image_path)\n",
    "            \n",
    "            heights.append(image.shape[0])\n",
    "            widths.append(image.shape[1])\n",
    "            depths.append(image.shape[2])\n",
    "        \n",
    "    return heights, widths, depths"
   ]
  },
  {
   "cell_type": "code",
   "execution_count": 34,
   "metadata": {},
   "outputs": [],
   "source": [
    "train_heights, train_widths, train_depths = get_image_sizes(os.path.join(base_path, 'train'))\n",
    "val_heights, val_widths, val_depths = get_image_sizes(os.path.join(base_path, 'val'))\n",
    "test_heights, test_widths, test_depths = get_image_sizes(os.path.join(base_path, 'test'))"
   ]
  },
  {
   "cell_type": "code",
   "execution_count": 39,
   "metadata": {},
   "outputs": [
    {
     "data": {
      "text/plain": [
       "6149"
      ]
     },
     "execution_count": 39,
     "metadata": {},
     "output_type": "execute_result"
    }
   ],
   "source": [
    "len(test_heights)"
   ]
  },
  {
   "cell_type": "code",
   "execution_count": 41,
   "metadata": {},
   "outputs": [],
   "source": [
    "train_dimensions_per_image = pd.DataFrame({\n",
    "    'train_heights': train_heights,\n",
    "    'train_widths': train_widths,\n",
    "    'train_depths': train_depths,\n",
    "})\n",
    "\n",
    "val_dimensions_per_image = pd.DataFrame({\n",
    "    'val_heights': val_heights,\n",
    "    'val_widths': val_widths,\n",
    "    'val_depths': val_depths,\n",
    "})\n",
    "\n",
    "test_dimensions_per_image = pd.DataFrame({\n",
    "    'test_heights': test_heights,\n",
    "    'test_widths': test_widths,\n",
    "    'test_depths': test_depths,\n",
    "})"
   ]
  },
  {
   "cell_type": "code",
   "execution_count": 42,
   "metadata": {},
   "outputs": [
    {
     "data": {
      "text/html": [
       "<div>\n",
       "<style scoped>\n",
       "    .dataframe tbody tr th:only-of-type {\n",
       "        vertical-align: middle;\n",
       "    }\n",
       "\n",
       "    .dataframe tbody tr th {\n",
       "        vertical-align: top;\n",
       "    }\n",
       "\n",
       "    .dataframe thead th {\n",
       "        text-align: right;\n",
       "    }\n",
       "</style>\n",
       "<table border=\"1\" class=\"dataframe\">\n",
       "  <thead>\n",
       "    <tr style=\"text-align: right;\">\n",
       "      <th></th>\n",
       "      <th>train_heights</th>\n",
       "      <th>train_widths</th>\n",
       "      <th>train_depths</th>\n",
       "    </tr>\n",
       "  </thead>\n",
       "  <tbody>\n",
       "    <tr>\n",
       "      <th>count</th>\n",
       "      <td>1020.000000</td>\n",
       "      <td>1020.000000</td>\n",
       "      <td>1020.0</td>\n",
       "    </tr>\n",
       "    <tr>\n",
       "      <th>mean</th>\n",
       "      <td>537.775490</td>\n",
       "      <td>624.489216</td>\n",
       "      <td>3.0</td>\n",
       "    </tr>\n",
       "    <tr>\n",
       "      <th>std</th>\n",
       "      <td>79.235897</td>\n",
       "      <td>97.422428</td>\n",
       "      <td>0.0</td>\n",
       "    </tr>\n",
       "    <tr>\n",
       "      <th>min</th>\n",
       "      <td>500.000000</td>\n",
       "      <td>500.000000</td>\n",
       "      <td>3.0</td>\n",
       "    </tr>\n",
       "    <tr>\n",
       "      <th>25%</th>\n",
       "      <td>500.000000</td>\n",
       "      <td>500.000000</td>\n",
       "      <td>3.0</td>\n",
       "    </tr>\n",
       "    <tr>\n",
       "      <th>50%</th>\n",
       "      <td>500.000000</td>\n",
       "      <td>666.000000</td>\n",
       "      <td>3.0</td>\n",
       "    </tr>\n",
       "    <tr>\n",
       "      <th>75%</th>\n",
       "      <td>513.250000</td>\n",
       "      <td>685.250000</td>\n",
       "      <td>3.0</td>\n",
       "    </tr>\n",
       "    <tr>\n",
       "      <th>max</th>\n",
       "      <td>993.000000</td>\n",
       "      <td>919.000000</td>\n",
       "      <td>3.0</td>\n",
       "    </tr>\n",
       "  </tbody>\n",
       "</table>\n",
       "</div>"
      ],
      "text/plain": [
       "       train_heights  train_widths  train_depths\n",
       "count    1020.000000   1020.000000        1020.0\n",
       "mean      537.775490    624.489216           3.0\n",
       "std        79.235897     97.422428           0.0\n",
       "min       500.000000    500.000000           3.0\n",
       "25%       500.000000    500.000000           3.0\n",
       "50%       500.000000    666.000000           3.0\n",
       "75%       513.250000    685.250000           3.0\n",
       "max       993.000000    919.000000           3.0"
      ]
     },
     "execution_count": 42,
     "metadata": {},
     "output_type": "execute_result"
    }
   ],
   "source": [
    "train_dimensions_per_image.describe()"
   ]
  },
  {
   "cell_type": "code",
   "execution_count": 46,
   "metadata": {},
   "outputs": [
    {
     "data": {
      "text/plain": [
       "<matplotlib.axes._subplots.AxesSubplot at 0x7fbfc6982790>"
      ]
     },
     "execution_count": 46,
     "metadata": {},
     "output_type": "execute_result"
    },
    {
     "data": {
      "image/png": "[encoded data removed]",
      "text/plain": [
       "<Figure size 1080x576 with 1 Axes>"
      ]
     },
     "metadata": {
      "needs_background": "light"
     },
     "output_type": "display_data"
    }
   ],
   "source": [
    "train_dimensions_per_image.boxplot(column=['train_heights', 'train_widths', 'train_depths'], figsize=(15,8))"
   ]
  },
  {
   "cell_type": "code",
   "execution_count": 43,
   "metadata": {},
   "outputs": [
    {
     "data": {
      "text/html": [
       "<div>\n",
       "<style scoped>\n",
       "    .dataframe tbody tr th:only-of-type {\n",
       "        vertical-align: middle;\n",
       "    }\n",
       "\n",
       "    .dataframe tbody tr th {\n",
       "        vertical-align: top;\n",
       "    }\n",
       "\n",
       "    .dataframe thead th {\n",
       "        text-align: right;\n",
       "    }\n",
       "</style>\n",
       "<table border=\"1\" class=\"dataframe\">\n",
       "  <thead>\n",
       "    <tr style=\"text-align: right;\">\n",
       "      <th></th>\n",
       "      <th>val_heights</th>\n",
       "      <th>val_widths</th>\n",
       "      <th>val_depths</th>\n",
       "    </tr>\n",
       "  </thead>\n",
       "  <tbody>\n",
       "    <tr>\n",
       "      <th>count</th>\n",
       "      <td>1020.000000</td>\n",
       "      <td>1020.000000</td>\n",
       "      <td>1020.0</td>\n",
       "    </tr>\n",
       "    <tr>\n",
       "      <th>mean</th>\n",
       "      <td>533.411765</td>\n",
       "      <td>622.451961</td>\n",
       "      <td>3.0</td>\n",
       "    </tr>\n",
       "    <tr>\n",
       "      <th>std</th>\n",
       "      <td>74.612937</td>\n",
       "      <td>94.033875</td>\n",
       "      <td>0.0</td>\n",
       "    </tr>\n",
       "    <tr>\n",
       "      <th>min</th>\n",
       "      <td>500.000000</td>\n",
       "      <td>500.000000</td>\n",
       "      <td>3.0</td>\n",
       "    </tr>\n",
       "    <tr>\n",
       "      <th>25%</th>\n",
       "      <td>500.000000</td>\n",
       "      <td>502.000000</td>\n",
       "      <td>3.0</td>\n",
       "    </tr>\n",
       "    <tr>\n",
       "      <th>50%</th>\n",
       "      <td>500.000000</td>\n",
       "      <td>663.500000</td>\n",
       "      <td>3.0</td>\n",
       "    </tr>\n",
       "    <tr>\n",
       "      <th>75%</th>\n",
       "      <td>501.000000</td>\n",
       "      <td>674.000000</td>\n",
       "      <td>3.0</td>\n",
       "    </tr>\n",
       "    <tr>\n",
       "      <th>max</th>\n",
       "      <td>1066.000000</td>\n",
       "      <td>885.000000</td>\n",
       "      <td>3.0</td>\n",
       "    </tr>\n",
       "  </tbody>\n",
       "</table>\n",
       "</div>"
      ],
      "text/plain": [
       "       val_heights   val_widths  val_depths\n",
       "count  1020.000000  1020.000000      1020.0\n",
       "mean    533.411765   622.451961         3.0\n",
       "std      74.612937    94.033875         0.0\n",
       "min     500.000000   500.000000         3.0\n",
       "25%     500.000000   502.000000         3.0\n",
       "50%     500.000000   663.500000         3.0\n",
       "75%     501.000000   674.000000         3.0\n",
       "max    1066.000000   885.000000         3.0"
      ]
     },
     "execution_count": 43,
     "metadata": {},
     "output_type": "execute_result"
    }
   ],
   "source": [
    "val_dimensions_per_image.describe()"
   ]
  },
  {
   "cell_type": "code",
   "execution_count": 47,
   "metadata": {},
   "outputs": [
    {
     "data": {
      "text/plain": [
       "<matplotlib.axes._subplots.AxesSubplot at 0x7fbfc6899890>"
      ]
     },
     "execution_count": 47,
     "metadata": {},
     "output_type": "execute_result"
    },
    {
     "data": {
      "image/png": "[encoded data removed]",
      "text/plain": [
       "<Figure size 1080x576 with 1 Axes>"
      ]
     },
     "metadata": {
      "needs_background": "light"
     },
     "output_type": "display_data"
    }
   ],
   "source": [
    "val_dimensions_per_image.boxplot(column=['val_heights', 'val_widths', 'val_depths'], figsize=(15,8))"
   ]
  },
  {
   "cell_type": "code",
   "execution_count": 44,
   "metadata": {},
   "outputs": [
    {
     "data": {
      "text/html": [
       "<div>\n",
       "<style scoped>\n",
       "    .dataframe tbody tr th:only-of-type {\n",
       "        vertical-align: middle;\n",
       "    }\n",
       "\n",
       "    .dataframe tbody tr th {\n",
       "        vertical-align: top;\n",
       "    }\n",
       "\n",
       "    .dataframe thead th {\n",
       "        text-align: right;\n",
       "    }\n",
       "</style>\n",
       "<table border=\"1\" class=\"dataframe\">\n",
       "  <thead>\n",
       "    <tr style=\"text-align: right;\">\n",
       "      <th></th>\n",
       "      <th>test_heights</th>\n",
       "      <th>test_widths</th>\n",
       "      <th>test_depths</th>\n",
       "    </tr>\n",
       "  </thead>\n",
       "  <tbody>\n",
       "    <tr>\n",
       "      <th>count</th>\n",
       "      <td>6149.000000</td>\n",
       "      <td>6149.000000</td>\n",
       "      <td>6149.0</td>\n",
       "    </tr>\n",
       "    <tr>\n",
       "      <th>mean</th>\n",
       "      <td>533.940153</td>\n",
       "      <td>632.380062</td>\n",
       "      <td>3.0</td>\n",
       "    </tr>\n",
       "    <tr>\n",
       "      <th>std</th>\n",
       "      <td>74.945048</td>\n",
       "      <td>95.980201</td>\n",
       "      <td>0.0</td>\n",
       "    </tr>\n",
       "    <tr>\n",
       "      <th>min</th>\n",
       "      <td>500.000000</td>\n",
       "      <td>500.000000</td>\n",
       "      <td>3.0</td>\n",
       "    </tr>\n",
       "    <tr>\n",
       "      <th>25%</th>\n",
       "      <td>500.000000</td>\n",
       "      <td>506.000000</td>\n",
       "      <td>3.0</td>\n",
       "    </tr>\n",
       "    <tr>\n",
       "      <th>50%</th>\n",
       "      <td>500.000000</td>\n",
       "      <td>667.000000</td>\n",
       "      <td>3.0</td>\n",
       "    </tr>\n",
       "    <tr>\n",
       "      <th>75%</th>\n",
       "      <td>501.000000</td>\n",
       "      <td>702.000000</td>\n",
       "      <td>3.0</td>\n",
       "    </tr>\n",
       "    <tr>\n",
       "      <th>max</th>\n",
       "      <td>1168.000000</td>\n",
       "      <td>1024.000000</td>\n",
       "      <td>3.0</td>\n",
       "    </tr>\n",
       "  </tbody>\n",
       "</table>\n",
       "</div>"
      ],
      "text/plain": [
       "       test_heights  test_widths  test_depths\n",
       "count   6149.000000  6149.000000       6149.0\n",
       "mean     533.940153   632.380062          3.0\n",
       "std       74.945048    95.980201          0.0\n",
       "min      500.000000   500.000000          3.0\n",
       "25%      500.000000   506.000000          3.0\n",
       "50%      500.000000   667.000000          3.0\n",
       "75%      501.000000   702.000000          3.0\n",
       "max     1168.000000  1024.000000          3.0"
      ]
     },
     "execution_count": 44,
     "metadata": {},
     "output_type": "execute_result"
    }
   ],
   "source": [
    "test_dimensions_per_image.describe()"
   ]
  },
  {
   "cell_type": "code",
   "execution_count": 48,
   "metadata": {},
   "outputs": [
    {
     "data": {
      "text/plain": [
       "<matplotlib.axes._subplots.AxesSubplot at 0x7fbfc682e850>"
      ]
     },
     "execution_count": 48,
     "metadata": {},
     "output_type": "execute_result"
    },
    {
     "data": {
      "image/png": "[encoded data removed]",
      "text/plain": [
       "<Figure size 1080x576 with 1 Axes>"
      ]
     },
     "metadata": {
      "needs_background": "light"
     },
     "output_type": "display_data"
    }
   ],
   "source": [
    "test_dimensions_per_image.boxplot(column=['test_heights', 'test_widths', 'test_depths'], figsize=(15,8))"
   ]
  },
  {
   "cell_type": "markdown",
   "metadata": {},
   "source": [
    "### Comparing data splits"
   ]
  },
  {
   "cell_type": "markdown",
   "metadata": {},
   "source": [
    "#### Heights"
   ]
  },
  {
   "cell_type": "code",
   "execution_count": 51,
   "metadata": {},
   "outputs": [
    {
     "name": "stdout",
     "output_type": "stream",
     "text": [
      "Max: 993\t Min: 500\t Mean: 537.7754901960784\n",
      "Max: 1066\t Min: 500\t Mean: 533.4117647058823\n",
      "Max: 1168\t Min: 500\t Mean: 533.9401528703854\n"
     ]
    }
   ],
   "source": [
    "print('Max: {}\\t Min: {}\\t Mean: {}'.format(train_dimensions_per_image['train_heights'].max(), \n",
    "                                            train_dimensions_per_image['train_heights'].min(), \n",
    "                                            train_dimensions_per_image['train_heights'].mean()))\n",
    "print('Max: {}\\t Min: {}\\t Mean: {}'.format(val_dimensions_per_image['val_heights'].max(), \n",
    "                                            val_dimensions_per_image['val_heights'].min(), \n",
    "                                            val_dimensions_per_image['val_heights'].mean()))\n",
    "print('Max: {}\\t Min: {}\\t Mean: {}'.format(test_dimensions_per_image['test_heights'].max(), \n",
    "                                            test_dimensions_per_image['test_heights'].min(), \n",
    "                                            test_dimensions_per_image['test_heights'].mean()))"
   ]
  },
  {
   "cell_type": "markdown",
   "metadata": {},
   "source": [
    "#### Widths"
   ]
  },
  {
   "cell_type": "code",
   "execution_count": 53,
   "metadata": {},
   "outputs": [
    {
     "name": "stdout",
     "output_type": "stream",
     "text": [
      "Max: 919\t Min: 500\t Mean: 624.4892156862745\n",
      "Max: 885\t Min: 500\t Mean: 622.4519607843138\n",
      "Max: 1024\t Min: 500\t Mean: 632.3800617986665\n"
     ]
    }
   ],
   "source": [
    "print('Max: {}\\t Min: {}\\t Mean: {}'.format(train_dimensions_per_image['train_widths'].max(), \n",
    "                                            train_dimensions_per_image['train_widths'].min(), \n",
    "                                            train_dimensions_per_image['train_widths'].mean()))\n",
    "print('Max: {}\\t Min: {}\\t Mean: {}'.format(val_dimensions_per_image['val_widths'].max(), \n",
    "                                            val_dimensions_per_image['val_widths'].min(), \n",
    "                                            val_dimensions_per_image['val_widths'].mean()))\n",
    "print('Max: {}\\t Min: {}\\t Mean: {}'.format(test_dimensions_per_image['test_widths'].max(), \n",
    "                                            test_dimensions_per_image['test_widths'].min(), \n",
    "                                            test_dimensions_per_image['test_widths'].mean()))"
   ]
  },
  {
   "cell_type": "markdown",
   "metadata": {},
   "source": [
    "#### Dephs"
   ]
  },
  {
   "cell_type": "code",
   "execution_count": 54,
   "metadata": {},
   "outputs": [
    {
     "name": "stdout",
     "output_type": "stream",
     "text": [
      "Max: 3\t Min: 3\t Mean: 3.0\n",
      "Max: 3\t Min: 3\t Mean: 3.0\n",
      "Max: 3\t Min: 3\t Mean: 3.0\n"
     ]
    }
   ],
   "source": [
    "print('Max: {}\\t Min: {}\\t Mean: {}'.format(train_dimensions_per_image['train_depths'].max(), \n",
    "                                            train_dimensions_per_image['train_depths'].min(), \n",
    "                                            train_dimensions_per_image['train_depths'].mean()))\n",
    "print('Max: {}\\t Min: {}\\t Mean: {}'.format(val_dimensions_per_image['val_depths'].max(), \n",
    "                                            val_dimensions_per_image['val_depths'].min(), \n",
    "                                            val_dimensions_per_image['val_depths'].mean()))\n",
    "print('Max: {}\\t Min: {}\\t Mean: {}'.format(test_dimensions_per_image['test_depths'].max(), \n",
    "                                            test_dimensions_per_image['test_depths'].min(), \n",
    "                                            test_dimensions_per_image['test_depths'].mean()))"
   ]
  },
  {
   "cell_type": "code",
   "execution_count": null,
   "metadata": {},
   "outputs": [],
   "source": []
  }
 ],
 "metadata": {
  "kernelspec": {
   "display_name": "Python 3",
   "language": "python",
   "name": "python3"
  },
  "language_info": {
   "codemirror_mode": {
    "name": "ipython",
    "version": 3
   },
   "file_extension": ".py",
   "mimetype": "text/x-python",
   "name": "python",
   "nbconvert_exporter": "python",
   "pygments_lexer": "ipython3",
   "version": "3.7.6"
  }
 },
 "nbformat": 4,
 "nbformat_minor": 4
}
