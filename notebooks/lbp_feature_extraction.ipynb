{
  "nbformat": 4,
  "nbformat_minor": 0,
  "metadata": {
    "colab": {
      "name": "lbp_feature_extreaction.ipynb",
      "version": "0.3.2",
      "provenance": [],
      "collapsed_sections": [
        "3kpxnG1_rymQ",
        "XzGAOVFuhJcv",
        "47vvVUoW7_T9",
        "YvyRcA-LH0LN"
      ],
      "toc_visible": true
    },
    "kernelspec": {
      "name": "python3",
      "display_name": "Python 3"
    },
    "accelerator": "GPU"
  },
  "cells": [
    {
      "metadata": {
        "id": "8RJ9V0zBaK0u",
        "colab_type": "text"
      },
      "cell_type": "markdown",
      "source": [
        "# Feature extraction with LBP"
      ]
    },
    {
      "metadata": {
        "id": "0vFLBNOEklmq",
        "colab_type": "code",
        "outputId": "f6945486-6038-4f72-d624-470250ab094e",
        "colab": {
          "base_uri": "https://localhost:8080/",
          "height": 204
        }
      },
      "cell_type": "code",
      "source": [
        "!wget 'http://cs231n.stanford.edu/tiny-imagenet-200.zip'\n",
        "!unzip -q -n 'tiny-imagenet-200.zip'"
      ],
      "execution_count": 2,
      "outputs": [
        {
          "output_type": "stream",
          "text": [
            "--2019-05-02 13:05:40--  http://cs231n.stanford.edu/tiny-imagenet-200.zip\n",
            "Resolving cs231n.stanford.edu (cs231n.stanford.edu)... 171.64.68.10\n",
            "Connecting to cs231n.stanford.edu (cs231n.stanford.edu)|171.64.68.10|:80... connected.\n",
            "HTTP request sent, awaiting response... 200 OK\n",
            "Length: 248100043 (237M) [application/zip]\n",
            "Saving to: ‘tiny-imagenet-200.zip.1’\n",
            "\n",
            "tiny-imagenet-200.z 100%[===================>] 236.61M  15.5MB/s    in 18s     \n",
            "\n",
            "2019-05-02 13:05:58 (13.5 MB/s) - ‘tiny-imagenet-200.zip.1’ saved [248100043/248100043]\n",
            "\n"
          ],
          "name": "stdout"
        }
      ]
    },
    {
      "metadata": {
        "id": "hHmTwXxSixT5",
        "colab_type": "code",
        "outputId": "cdc05b3e-371d-418b-bfcd-4f3c22aed68a",
        "colab": {
          "base_uri": "https://localhost:8080/",
          "height": 122
        }
      },
      "cell_type": "code",
      "source": [
        "from google.colab import drive\n",
        "drive.mount('/content/drive')"
      ],
      "execution_count": 4,
      "outputs": [
        {
          "output_type": "stream",
          "text": [
            "Go to this URL in a browser: https://accounts.google.com/o/oauth2/auth?client_id=947318989803-6bn6qk8qdgf4n4g3pfee6491hc0brc4i.apps.googleusercontent.com&redirect_uri=urn%3Aietf%3Awg%3Aoauth%3A2.0%3Aoob&scope=email%20https%3A%2F%2Fwww.googleapis.com%2Fauth%2Fdocs.test%20https%3A%2F%2Fwww.googleapis.com%2Fauth%2Fdrive%20https%3A%2F%2Fwww.googleapis.com%2Fauth%2Fdrive.photos.readonly%20https%3A%2F%2Fwww.googleapis.com%2Fauth%2Fpeopleapi.readonly&response_type=code\n",
            "\n",
            "Enter your authorization code:\n",
            "··········\n",
            "Mounted at /content/drive\n"
          ],
          "name": "stdout"
        }
      ]
    },
    {
      "metadata": {
        "id": "3kpxnG1_rymQ",
        "colab_type": "text"
      },
      "cell_type": "markdown",
      "source": [
        "## Normalize validation scaffolding"
      ]
    },
    {
      "metadata": {
        "id": "ZYjENHc_rh2v",
        "colab_type": "code",
        "colab": {}
      },
      "cell_type": "code",
      "source": [
        "import os, shutil\n",
        "import pandas as pd\n",
        "\n",
        "\n",
        "def change_validation_scaffolding(base_route, definition_file, separator):\n",
        "  validation_data = _load_validation_data(definition_file, separator)\n",
        "  \n",
        "  for row in validation_data.iterrows():\n",
        "    file = row[1][\"file\"]\n",
        "    label = row[1][\"label\"]\n",
        "    \n",
        "    label_folder = os.path.join(base_route, label)\n",
        "    \n",
        "    if not os.path.exists(label_folder):\n",
        "      os.mkdir(label_folder)\n",
        "    \n",
        "    shutil.move(os.path.join(base_route, file), os.path.join(label_folder, file))\n",
        "\n",
        "\n",
        "def _load_validation_data(definition_file, separator):\n",
        "  validation_data = pd.read_csv(\n",
        "    definition_file,\n",
        "    sep=separator,\n",
        "    header=None\n",
        "  )\n",
        "  \n",
        "  validation_data.columns = [\"file\", \"label\", \"0\", \"1\", \"2\", \"3\"]\n",
        "  \n",
        "  return validation_data"
      ],
      "execution_count": 0,
      "outputs": []
    },
    {
      "metadata": {
        "id": "YafBCk3Sr7bY",
        "colab_type": "code",
        "colab": {}
      },
      "cell_type": "code",
      "source": [
        "change_validation_scaffolding(\"tiny-imagenet-200/val/images\", \"tiny-imagenet-200/val/val_annotations.txt\", '\\t')"
      ],
      "execution_count": 0,
      "outputs": []
    },
    {
      "metadata": {
        "id": "oOJ4VU8lkmyV",
        "colab_type": "text"
      },
      "cell_type": "markdown",
      "source": [
        "## LBP extractor definition"
      ]
    },
    {
      "metadata": {
        "id": "DAO8ShZSaFQL",
        "colab_type": "code",
        "colab": {}
      },
      "cell_type": "code",
      "source": [
        "import numpy as np\n",
        "from skimage import feature\n",
        "\n",
        "\n",
        "class LBPExtractor:\n",
        "  \n",
        "  def __init__(self, points, radius):\n",
        "    self.points = points\n",
        "    self.radius = radius\n",
        "  \n",
        "  def get_image_hist(self, image, eps=1e-7):\n",
        "    lbp = feature.local_binary_pattern(\n",
        "        image, \n",
        "        self.points, \n",
        "        self.radius, \n",
        "        method=\"uniform\"\n",
        "    )\n",
        "    \n",
        "    hist, _ = np.histogram(\n",
        "        lbp,\n",
        "        bins=np.arange(0, self.points + 3),\n",
        "        range=(0, self.points + 2)\n",
        "    )\n",
        "    \n",
        "    hist = hist.astype(\"float\")\n",
        "    hist /= hist.sum() + eps\n",
        "    \n",
        "    return hist"
      ],
      "execution_count": 0,
      "outputs": []
    },
    {
      "metadata": {
        "id": "2nvOdrvsleaY",
        "colab_type": "code",
        "colab": {}
      },
      "cell_type": "code",
      "source": [
        "import cv2\n",
        "\n",
        "def get_hist_from_img_route(image_route, lbp_extractor):\n",
        "  image = cv2.imread(image_route)\n",
        "  gray_image = cv2.cvtColor(image, cv2.COLOR_BGR2GRAY)\n",
        "  return lbp_extractor.get_image_hist(gray_image)"
      ],
      "execution_count": 0,
      "outputs": []
    },
    {
      "metadata": {
        "id": "OD6W_CsGHdwV",
        "colab_type": "text"
      },
      "cell_type": "markdown",
      "source": [
        "## One image example"
      ]
    },
    {
      "metadata": {
        "id": "eRMsK5-yHic_",
        "colab_type": "code",
        "colab": {
          "base_uri": "https://localhost:8080/",
          "height": 286
        },
        "outputId": "f1febb35-f3b6-4045-b3f8-2f13204aec83"
      },
      "cell_type": "code",
      "source": [
        "import matplotlib.pyplot as plt\n",
        "\n",
        "image_route = 'tiny-imagenet-200/train/n01443537/images/n01443537_1.JPEG'\n",
        "img = cv2.imread(image_route)\n",
        "gray_image = cv2.cvtColor(img, cv2.COLOR_BGR2GRAY)\n",
        "\n",
        "plt.imshow(gray_image)"
      ],
      "execution_count": 45,
      "outputs": [
        {
          "output_type": "execute_result",
          "data": {
            "text/plain": [
              "<matplotlib.image.AxesImage at 0x7f42f08a6358>"
            ]
          },
          "metadata": {
            "tags": []
          },
          "execution_count": 45
        },
        {
          "output_type": "display_data",
          "data": {
            "image/png": "[encoded data removed]",
            "text/plain": [
              "<Figure size 432x288 with 1 Axes>"
            ]
          },
          "metadata": {
            "tags": []
          }
        }
      ]
    },
    {
      "metadata": {
        "id": "ozVk5F4CKooh",
        "colab_type": "code",
        "colab": {
          "base_uri": "https://localhost:8080/",
          "height": 286
        },
        "outputId": "9c5d49bf-591b-4981-db50-86e3271b1ddd"
      },
      "cell_type": "code",
      "source": [
        "radius = 1\n",
        "points = 32\n",
        "\n",
        "lbp_image = feature.local_binary_pattern(gray_image, P=points, R=radius, method=\"uniform\")\n",
        "plt.imshow(lbp_image)"
      ],
      "execution_count": 72,
      "outputs": [
        {
          "output_type": "execute_result",
          "data": {
            "text/plain": [
              "<matplotlib.image.AxesImage at 0x7f42f067c828>"
            ]
          },
          "metadata": {
            "tags": []
          },
          "execution_count": 72
        },
        {
          "output_type": "display_data",
          "data": {
            "image/png": "[encoded data removed]",
            "text/plain": [
              "<Figure size 432x288 with 1 Axes>"
            ]
          },
          "metadata": {
            "tags": []
          }
        }
      ]
    },
    {
      "metadata": {
        "id": "y8cfOQKoMkUh",
        "colab_type": "code",
        "colab": {
          "base_uri": "https://localhost:8080/",
          "height": 68
        },
        "outputId": "67f9872a-7955-484c-85b6-762d69d308e4"
      },
      "cell_type": "code",
      "source": [
        "hist, _ = np.histogram(lbp_image,bins=np.arange(0, 27), range=(0, points + 2))\n",
        "\n",
        "hist = hist.astype(\"float\")\n",
        "#hist /= hist.sum() + 1e-7\n",
        "\n",
        "hist"
      ],
      "execution_count": 74,
      "outputs": [
        {
          "output_type": "execute_result",
          "data": {
            "text/plain": [
              "array([398., 114.,  55.,  70.,  76.,  58.,  78.,  81.,  56.,  55.,  67.,\n",
              "        72.,  85.,  98., 100., 113., 123., 132., 113.,  94.,  65.,  78.,\n",
              "        77.,  69.,  58., 139.])"
            ]
          },
          "metadata": {
            "tags": []
          },
          "execution_count": 74
        }
      ]
    },
    {
      "metadata": {
        "id": "P0DlqA0bRD69",
        "colab_type": "code",
        "colab": {}
      },
      "cell_type": "code",
      "source": [
        "\n",
        "class ImageGrid:\n",
        "  def __init__(self, width, height, grid_x, grid_y):\n",
        "    self.width = width\n",
        "    self.height = height\n",
        "    self.height_step = self.height//grid_y\n",
        "    self.width_step = self.width//grid_x\n",
        "\n",
        "  def get_grid(self, image):\n",
        "    grid = []\n",
        "\n",
        "    for y in range(0, self.height, self.height_step):\n",
        "      for x in range(0, self.width, self.width_step):\n",
        "        y1 = y + self.height_step\n",
        "        x1 = x + self.width_step\n",
        "\n",
        "        grid.append(im[y:y1, x:x1])\n",
        "\n",
        "    return grid"
      ],
      "execution_count": 0,
      "outputs": []
    },
    {
      "metadata": {
        "id": "xeQfl7I-VYr_",
        "colab_type": "code",
        "colab": {
          "base_uri": "https://localhost:8080/",
          "height": 8721
        },
        "outputId": "5b23149b-4e9e-4338-d6fb-618d111b7f31"
      },
      "cell_type": "code",
      "source": [
        "img_grid = ImageGrid(width=64, height=64, grid_x=4, grid_y=4)\n",
        "img_grid.get_grid(lbp_image)"
      ],
      "execution_count": 95,
      "outputs": [
        {
          "output_type": "execute_result",
          "data": {
            "text/plain": [
              "[array([[ 0.,  0.,  0.,  0.,  0.,  2.,  9., 18., 11.,  7., 12., 17., 12.,\n",
              "         33.,  1.,  7.],\n",
              "        [ 0., 13., 33.,  0., 11., 12., 17., 27., 18.,  6., 18., 25., 15.,\n",
              "          1., 12., 33.],\n",
              "        [ 0., 10., 21.,  0., 23., 33., 19., 16., 26., 33.,  0., 24., 17.,\n",
              "          7., 11., 26.],\n",
              "        [ 0.,  0.,  0.,  0., 21., 33., 16., 15., 25., 14., 17.,  8., 10.,\n",
              "         10., 13., 25.],\n",
              "        [10., 21., 23., 14., 11.,  9., 13., 14., 32., 32., 17., 33., 15.,\n",
              "         26., 23., 33.],\n",
              "        [18., 24., 17., 14.,  0., 11., 11., 17., 19., 32., 19., 33., 23.,\n",
              "         32., 19., 15.],\n",
              "        [17., 18., 19.,  9., 14., 16., 19., 33., 16., 21., 25.,  6., 16.,\n",
              "         32., 16., 17.],\n",
              "        [ 7.,  8., 12., 33., 23., 23., 25., 33.,  0., 22., 23.,  0., 33.,\n",
              "         26., 13.,  7.],\n",
              "        [17., 32., 18.,  0., 33., 32., 24., 13., 32.,  8., 13., 32., 13.,\n",
              "          8., 27., 21.],\n",
              "        [ 2., 33., 14., 14.,  7., 11., 12.,  8., 17., 11., 21., 28., 12.,\n",
              "         16., 26., 33.],\n",
              "        [ 0., 22., 32., 24., 17., 13., 11.,  3.,  1., 12., 22., 22., 11.,\n",
              "         17., 21.,  5.],\n",
              "        [ 2., 25., 22., 19., 26., 29., 19., 18.,  1., 33., 22., 17.,  7.,\n",
              "         33., 13.,  0.],\n",
              "        [33., 18., 15., 14., 15., 22., 26., 27., 17., 10., 18., 15., 10.,\n",
              "         23., 27., 33.],\n",
              "        [11., 18., 13.,  9.,  6., 17., 17., 12., 28., 13.,  9., 15., 14.,\n",
              "         19., 32., 33.],\n",
              "        [11., 19., 12.,  5.,  0., 33., 33.,  1., 30., 12.,  4., 22., 11.,\n",
              "         14., 16., 32.],\n",
              "        [ 0., 33., 23., 25., 31., 32., 21.,  7., 31., 16., 11., 27.,  7.,\n",
              "          0., 12., 16.]]),\n",
              " array([[17., 11., 15., 18., 33.,  0.,  2., 20., 33.,  4.,  3.,  6.,  9.,\n",
              "         16., 17., 17.],\n",
              "        [27., 33.,  0., 33., 29., 32., 33.,  0., 28., 32., 28., 26., 15.,\n",
              "         13., 15., 13.],\n",
              "        [ 0., 33., 32., 24.,  0.,  5., 33., 32., 33., 18., 18., 18., 10.,\n",
              "          8.,  5.,  7.],\n",
              "        [32., 33., 16.,  0., 33., 27., 28., 33.,  0.,  4., 33., 33., 12.,\n",
              "         13., 13., 14.],\n",
              "        [29., 18.,  1., 33., 26., 14., 11., 33., 16., 33., 32., 30., 32.,\n",
              "         32., 30., 30.],\n",
              "        [ 0., 33., 27., 32., 33.,  0.,  3., 32., 29., 33., 15., 15., 16.,\n",
              "         17., 17., 30.],\n",
              "        [26.,  3.,  0., 33., 33., 32., 33.,  0., 33.,  7.,  5.,  3.,  1.,\n",
              "         33.,  1., 33.],\n",
              "        [ 5., 32., 18.,  4.,  0.,  9., 25., 33., 29., 33., 16., 16., 17.,\n",
              "         26., 33., 14.],\n",
              "        [ 0., 27., 33., 32.,  7., 33.,  7., 32.,  0., 32., 31., 33., 32.,\n",
              "         33.,  4., 30.],\n",
              "        [32.,  0., 32.,  0., 32.,  0., 33., 17.,  2., 10., 17., 29.,  0.,\n",
              "          3., 32.,  0.],\n",
              "        [ 9., 33., 33., 33., 33., 32., 33., 10., 33., 32., 10., 12., 32.,\n",
              "         33., 33., 28.],\n",
              "        [19., 32.,  0., 32.,  0., 25., 13., 32.,  4., 31.,  1.,  0., 24.,\n",
              "         33.,  0., 22.],\n",
              "        [33., 29., 26., 33., 17.,  0., 22.,  7., 29., 33., 33., 32.,  3.,\n",
              "          0., 32.,  8.],\n",
              "        [ 0., 33., 25., 33., 32.,  1., 33.,  0., 19., 31., 14., 33., 32.,\n",
              "         33., 28., 22.],\n",
              "        [28., 33.,  0., 33.,  6., 17., 33., 33.,  5., 23., 13., 11., 18.,\n",
              "         33.,  3., 33.],\n",
              "        [33.,  0., 26., 32., 33., 32.,  0., 26.,  5., 12.,  3.,  0., 15.,\n",
              "         16., 32., 33.]]),\n",
              " array([[33.,  8., 33., 15., 17., 15., 14., 11., 17., 15., 15., 14., 15.,\n",
              "         17., 17., 17.],\n",
              "        [32., 26., 16., 16., 33., 33.,  4.,  0., 33.,  1.,  1.,  3.,  4.,\n",
              "         33., 13., 33.],\n",
              "        [ 1.,  0.,  1.,  3.,  7., 22., 32., 30., 15., 13., 17., 19., 17.,\n",
              "         16.,  5.,  0.],\n",
              "        [32., 27., 33., 25., 25., 25., 17., 19., 20., 29., 27., 26., 24.,\n",
              "         21., 15., 12.],\n",
              "        [ 3.,  6., 33.,  0.,  3., 14., 16., 24.,  1.,  1.,  1.,  5., 15.,\n",
              "         25., 28., 32.],\n",
              "        [32., 31., 28., 26., 14.,  0.,  3.,  2., 21., 15., 14., 11., 11.,\n",
              "         33., 20., 25.],\n",
              "        [33.,  6.,  1., 33., 33., 17., 17., 13., 32., 30., 28., 33., 18.,\n",
              "         33.,  4.,  0.],\n",
              "        [32., 15.,  7., 14., 29., 32., 31., 33., 33.,  5.,  1., 14., 32.,\n",
              "         32., 29., 33.],\n",
              "        [33., 33., 32., 27.,  6.,  0.,  3., 19., 13., 27., 32., 28., 33.,\n",
              "          0., 33., 33.],\n",
              "        [32., 33., 16., 22., 11., 14., 33., 33.,  0.,  8., 17., 15., 15.,\n",
              "         32., 30., 19.],\n",
              "        [33., 18.,  9., 10., 21., 23., 18., 12., 13., 14., 33.,  9., 17.,\n",
              "         18., 15., 10.],\n",
              "        [11., 11.,  9., 17., 25., 32., 27., 33., 28., 32., 32., 21., 14.,\n",
              "         16., 10.,  0.],\n",
              "        [ 2., 12., 16., 24., 19., 18., 21., 18.,  9., 16., 23., 18., 16.,\n",
              "         18., 12.,  7.],\n",
              "        [ 0., 16., 32., 16., 13., 15., 17., 19.,  2., 16., 21., 16., 13.,\n",
              "          7., 33., 11.],\n",
              "        [33., 17., 27., 14., 12., 12., 18., 10., 33., 23., 20., 17.,  0.,\n",
              "         33., 18.,  9.],\n",
              "        [13., 14., 33., 11.,  8., 15., 19., 12., 24., 18., 33.,  0., 14.,\n",
              "         33., 32., 31.]]),\n",
              " array([[14., 17., 17., 15.,  2.,  2.,  2.,  0., 14., 14., 17., 17., 14.,\n",
              "          6.,  4.,  0.],\n",
              "        [ 3.,  2.,  3.,  4., 18., 17., 17., 18.,  5.,  4., 33., 33., 23.,\n",
              "         22., 23., 33.],\n",
              "        [18., 15., 15., 17., 18., 17., 18., 22., 12., 15., 17., 14., 14.,\n",
              "         15., 18.,  7.],\n",
              "        [16., 23., 25., 26., 32., 32., 32., 32., 33., 19., 18., 18., 11.,\n",
              "          9.,  6.,  0.],\n",
              "        [33., 14., 10., 33., 33.,  4.,  3.,  0., 32., 25., 20., 18., 16.,\n",
              "         12., 13.,  5.],\n",
              "        [ 1., 15., 12., 20., 17., 21., 18., 33., 24., 20., 20., 18., 18.,\n",
              "         21., 25., 33.],\n",
              "        [20., 23., 27., 32., 32., 28., 27., 28., 33., 33., 13., 17., 18.,\n",
              "         16., 17.,  7.],\n",
              "        [32., 33., 33., 33., 17., 16., 33.,  6., 31., 32., 28., 17., 15.,\n",
              "          6.,  8.,  2.],\n",
              "        [10., 19., 32., 33.,  3.,  8., 28., 32., 33.,  1., 26., 24., 33.,\n",
              "         33., 32.,  8.],\n",
              "        [19.,  1.,  0.,  5., 32., 16.,  5.,  0.,  5., 32., 33.,  3., 33.,\n",
              "         32., 18.,  0.],\n",
              "        [13., 25., 31., 32., 16., 19., 26., 30., 33., 30.,  3., 27., 32.,\n",
              "         16., 33., 22.],\n",
              "        [ 7.,  7., 22., 21.,  8.,  6., 33., 29.,  0., 19., 32., 14., 23.,\n",
              "         17.,  0., 13.],\n",
              "        [32., 31., 33., 26., 27., 26., 15.,  1., 32., 33., 12., 22., 21.,\n",
              "          4., 22.,  7.],\n",
              "        [33., 33., 14.,  5.,  1.,  0., 33., 32.,  5., 32.,  4.,  0., 33.,\n",
              "         33., 27., 23.],\n",
              "        [32., 18., 12., 33., 32., 29., 15.,  7., 32., 33.,  6., 23., 24.,\n",
              "         11., 33.,  0.],\n",
              "        [ 0., 33., 19., 17., 16., 15., 33., 30.,  0., 32., 24., 33., 27.,\n",
              "         28., 32., 33.]]),\n",
              " array([[17., 18., 15., 11., 16., 32., 23., 12.,  6.,  7.,  8., 15., 19.,\n",
              "         33., 20., 20.],\n",
              "        [ 9., 12., 10.,  9., 13., 18., 20.,  3., 32., 21., 19., 13.,  8.,\n",
              "          0., 33., 14.],\n",
              "        [17., 18., 15., 13.,  0., 13., 26., 33., 33., 16., 19., 24., 20.,\n",
              "         16.,  8., 13.],\n",
              "        [17., 32., 19., 17.,  7., 22., 32., 25., 13., 13., 12., 17., 24.,\n",
              "         25., 25.,  9.],\n",
              "        [ 4., 24., 22., 18., 10., 33., 10.,  7., 32., 21., 13., 10., 33.,\n",
              "          7.,  7.,  0.],\n",
              "        [ 6., 22., 21., 21., 23., 32., 19., 10., 21., 21., 14., 10.,  7.,\n",
              "         19., 17., 33.],\n",
              "        [10., 18., 17., 16., 14., 24., 20., 15.,  6., 33., 14., 17., 33.,\n",
              "         32., 26., 33.],\n",
              "        [11., 16., 10.,  7.,  6., 33., 16.,  0., 14., 29., 32., 25., 16.,\n",
              "         33.,  7., 11.],\n",
              "        [ 8., 25., 22.,  0., 32., 19., 33., 32., 15., 33.,  2., 33., 33.,\n",
              "          3., 32.,  6.],\n",
              "        [ 0., 23.,  8., 32.,  5.,  0., 32., 12., 15., 17., 32., 13., 32.,\n",
              "          1., 33., 33.],\n",
              "        [21., 20.,  8., 27., 25., 30., 15., 19., 20., 13.,  0., 33., 17.,\n",
              "         32., 27.,  0.],\n",
              "        [33.,  7.,  7., 18., 18., 24.,  0., 17.,  1.,  1., 32.,  0.,  2.,\n",
              "         22.,  1., 33.],\n",
              "        [ 7., 32., 11.,  0., 33.,  0., 33.,  0., 33., 33.,  0., 33.,  6.,\n",
              "          8., 33., 20.],\n",
              "        [ 6.,  1., 33., 33.,  6., 15., 17., 33., 27.,  0., 19.,  4., 15.,\n",
              "         33., 22., 26.],\n",
              "        [33.,  0., 15., 20., 18., 13., 15., 29., 33., 28., 32., 12., 32.,\n",
              "          7., 14., 33.],\n",
              "        [ 0., 21., 33., 30., 31., 29., 27., 32., 14., 10., 18., 25., 25.,\n",
              "         33., 28., 32.]]),\n",
              " array([[32., 33., 17., 29.,  1.,  3., 32., 22., 16., 11., 33., 28., 15.,\n",
              "         11., 12., 19.],\n",
              "        [26., 25.,  6., 12., 32., 32., 33., 13., 19., 19., 16.,  8.,  0.,\n",
              "          3., 15., 27.],\n",
              "        [ 8., 33.,  5., 19., 33.,  5.,  0., 27.,  5., 15., 19., 17., 10.,\n",
              "         33., 22., 26.],\n",
              "        [32.,  9.,  0., 19., 32., 13.,  6., 33., 14., 19., 18., 20., 17.,\n",
              "         33., 11., 13.],\n",
              "        [17., 33., 27.,  0., 12., 32., 23.,  4., 32., 21.,  9.,  2., 33.,\n",
              "         16.,  7.,  1.],\n",
              "        [ 0., 17., 32., 33.,  0., 33., 19., 18., 14., 13., 13., 13., 32.,\n",
              "         27., 22., 15.],\n",
              "        [32., 14., 15., 10., 23., 32., 16., 17., 14., 17., 20., 25., 33.,\n",
              "          6.,  7., 11.],\n",
              "        [ 0.,  7., 20.,  6., 14., 25.,  7., 25., 32., 21., 33.,  0., 33.,\n",
              "         17., 18., 33.],\n",
              "        [33., 32., 15., 11., 32., 33.,  9., 23., 15., 11.,  6., 32., 33.,\n",
              "         19., 27., 33.],\n",
              "        [32., 13.,  0., 10., 32., 16.,  6.,  0., 26., 25., 33.,  3.,  0.,\n",
              "         19., 32., 27.],\n",
              "        [ 2.,  1., 12., 28., 31.,  8., 17., 21.,  0., 33., 33., 30., 33.,\n",
              "         33., 17., 33.],\n",
              "        [14., 24., 19., 27., 14., 18., 20.,  1., 32., 16.,  0., 14., 28.,\n",
              "          0., 33., 32.],\n",
              "        [11., 15., 12., 33., 33., 22., 13., 22., 18., 33., 33., 33., 27.,\n",
              "         32., 33., 15.],\n",
              "        [ 8., 14., 32., 29., 33., 33., 13.,  0.,  1., 30., 32., 11., 14.,\n",
              "         24., 14.,  6.],\n",
              "        [22., 19., 33.,  0., 33., 31., 32., 24., 28., 33., 21.,  5.,  0.,\n",
              "         33., 12.,  1.],\n",
              "        [ 0., 14., 32., 23., 33.,  0.,  2., 33., 18.,  7., 24., 11.,  6.,\n",
              "         21., 13., 11.]]),\n",
              " array([[17., 19., 19., 12.,  6.,  0.,  2., 33.,  0.,  4., 23.,  9., 32.,\n",
              "          0., 33., 12.],\n",
              "        [32., 32., 30., 31., 32., 30., 27.,  0., 16., 13., 32.,  3., 33.,\n",
              "         21., 32., 21.],\n",
              "        [13., 14.,  0., 13., 14., 16., 17., 33., 32.,  7., 33.,  3., 12.,\n",
              "         20., 15., 11.],\n",
              "        [17., 33., 30., 16.,  5.,  6.,  8., 12., 28., 33., 28., 32., 33.,\n",
              "         32., 20., 13.],\n",
              "        [ 0.,  3.,  4., 33., 25., 28., 26., 16., 11., 16., 22., 25., 10.,\n",
              "         32., 28., 14.],\n",
              "        [14., 18., 20., 33.,  0., 13., 16., 33., 33.,  6., 13., 16., 11.,\n",
              "         16., 33., 18.],\n",
              "        [13., 18., 32., 24., 13.,  0.,  4., 33., 32., 33.,  0., 17., 15.,\n",
              "         20., 19., 32.],\n",
              "        [18., 24., 16., 33., 33., 30., 19.,  4.,  0., 32., 31., 33., 12.,\n",
              "         23., 22., 20.],\n",
              "        [32., 18.,  0., 33.,  3., 32., 25., 30., 30., 33.,  0., 12., 18.,\n",
              "         18., 17., 22.],\n",
              "        [13., 17.,  6., 32.,  1., 33.,  0.,  4., 33., 12., 12.,  0.,  4.,\n",
              "         11., 11.,  6.],\n",
              "        [11., 15., 28., 33., 33., 10., 33., 27., 28., 32., 30., 27., 33.,\n",
              "         21., 22., 20.],\n",
              "        [24., 13., 12.,  1., 28.,  8., 22.,  2.,  0., 33., 33.,  2.,  0.,\n",
              "          4., 33., 16.],\n",
              "        [23., 23., 23., 33., 32., 24., 26., 11., 30., 32., 29., 29., 28.,\n",
              "         32., 27., 16.],\n",
              "        [16., 17., 17., 12., 21., 17., 23., 32.,  3.,  3.,  1.,  1.,  5.,\n",
              "         33.,  7.,  2.],\n",
              "        [ 1.,  7., 33., 10., 12., 33.,  0., 33., 20., 33., 14., 21., 25.,\n",
              "         32., 25., 33.],\n",
              "        [11., 19.,  0.,  8., 13., 32., 33., 28.,  0., 33., 11.,  9., 33.,\n",
              "         26., 19., 33.]]),\n",
              " array([[22., 20., 13., 18., 33., 10., 33.,  3., 32., 33.,  0., 33.,  0.,\n",
              "          5., 33.,  0.],\n",
              "        [11., 16.,  0.,  6., 32.,  2., 29., 33., 33.,  2., 32., 31., 33.,\n",
              "         21., 32., 33.],\n",
              "        [25., 33.,  4., 32.,  0., 32., 31.,  0., 32.,  4., 25.,  0., 30.,\n",
              "          0., 33.,  0.],\n",
              "        [ 0.,  3., 30., 33., 30.,  6., 33., 32., 33.,  0., 33.,  3., 32.,\n",
              "         33., 30., 19.],\n",
              "        [ 6., 22., 21.,  0., 18., 32., 33.,  4., 33., 26., 32., 30., 14.,\n",
              "          0., 12., 11.],\n",
              "        [17., 24., 16., 22., 33.,  0., 33.,  4.,  9., 33.,  3., 22.,  1.,\n",
              "         20., 33., 15.],\n",
              "        [22.,  8., 32., 33.,  0., 32., 33.,  0., 31., 32.,  0., 33., 33.,\n",
              "         32.,  4.,  7.],\n",
              "        [12.,  6.,  0., 26., 24., 33., 33., 28.,  0., 25., 33., 33.,  3.,\n",
              "         27.,  4., 14.],\n",
              "        [15., 33., 32.,  4., 29., 32.,  0., 32., 33.,  0., 32.,  0., 32.,\n",
              "         33., 33., 16.],\n",
              "        [28.,  0.,  4., 30.,  5.,  0., 33.,  0., 29.,  2.,  6., 29., 33.,\n",
              "         33.,  0., 17.],\n",
              "        [32.,  3., 25., 32.,  8., 12., 18., 24., 33., 33.,  9., 32.,  0.,\n",
              "         29.,  1., 14.],\n",
              "        [22., 24., 33., 33., 27., 28., 27., 32., 33., 33., 29., 33.,  6.,\n",
              "         28., 16.,  1.],\n",
              "        [ 0., 33., 33.,  0., 33., 18., 21.,  6., 31.,  6., 12., 31., 28.,\n",
              "          0., 19., 17.],\n",
              "        [18., 33., 27., 33.,  3., 33.,  9., 33., 33., 33.,  0., 32.,  4.,\n",
              "         33., 26.,  2.],\n",
              "        [ 9., 32.,  0., 33., 32.,  0., 27., 33.,  0., 22., 16., 33.,  0.,\n",
              "         33., 29.,  0.],\n",
              "        [32.,  0., 28.,  3., 33., 32.,  6., 32., 33., 16., 26., 32., 29.,\n",
              "          0., 32., 33.]]),\n",
              " array([[33., 32., 18.,  1.,  1., 33.,  1.,  0., 33.,  1.,  0., 33.,  1.,\n",
              "          1., 33.,  0.],\n",
              "        [ 0.,  2.,  3., 33., 19., 32., 33., 28., 17., 23., 10., 21., 29.,\n",
              "         23.,  2., 14.],\n",
              "        [19.,  5., 17., 32., 33., 30.,  0., 32., 27., 33.,  1., 26., 32.,\n",
              "          4.,  0., 33.],\n",
              "        [ 4., 33., 32.,  0.,  1., 33., 32., 33., 10., 27., 12.,  5., 10.,\n",
              "          3., 22.,  6.],\n",
              "        [33., 33., 17., 32., 29.,  8., 23.,  6., 20., 24., 28., 18., 15.,\n",
              "          4., 32., 33.],\n",
              "        [11.,  0.,  3.,  1., 33.,  0., 33.,  0., 17., 13., 32., 21., 25.,\n",
              "          3., 29., 23.],\n",
              "        [33., 32., 30., 26.,  6., 32., 33., 33., 19., 23., 31.,  9., 16.,\n",
              "         33., 26.,  0.],\n",
              "        [ 0., 24.,  2.,  0., 33.,  1., 33.,  1.,  0., 11., 29., 28.,  4.,\n",
              "          0., 27., 27.],\n",
              "        [10.,  4., 32., 33., 32.,  0., 32., 33., 27., 23., 21.,  6., 33.,\n",
              "         32.,  0., 33.],\n",
              "        [15., 26.,  1.,  0.,  1., 33., 33., 13.,  0.,  2., 33.,  0., 33.,\n",
              "          1., 33., 32.],\n",
              "        [18.,  0., 25., 21., 24., 33., 32.,  0., 15., 32., 25.,  4., 27.,\n",
              "         32., 31., 33.],\n",
              "        [ 3., 30.,  0., 27., 29., 30.,  0., 33., 20., 30.,  2., 32., 33.,\n",
              "          0., 28.,  8.],\n",
              "        [33.,  0., 33.,  4., 33.,  0., 33.,  2., 33.,  0., 32.,  0., 21.,\n",
              "         22., 33., 30.],\n",
              "        [ 9., 30., 29., 33., 24., 12., 25., 33., 32., 31.,  6.,  3., 32.,\n",
              "         33.,  6.,  0.],\n",
              "        [33., 32.,  4.,  0., 32., 33., 33.,  1.,  0., 33., 21.,  8.,  9.,\n",
              "         33., 32., 28.],\n",
              "        [33.,  5.,  9., 33., 33.,  0., 25., 13., 15., 20., 21.,  3., 32.,\n",
              "          6.,  0.,  3.]]),\n",
              " array([[21., 33., 33.,  0., 33., 33., 32.,  0., 33.,  1., 33.,  9., 23.,\n",
              "         15., 22., 14.],\n",
              "        [14., 32.,  0., 33., 32., 10.,  0., 33., 16., 14., 18., 12., 14.,\n",
              "         19., 32., 33.],\n",
              "        [33., 14., 33.,  0., 29., 16., 33., 16., 33., 29., 31., 27., 17.,\n",
              "         19., 13., 33.],\n",
              "        [32., 12., 33., 32., 33., 33.,  5., 32.,  0.,  4., 33.,  3., 33.,\n",
              "         16., 18., 18.],\n",
              "        [33., 16.,  0., 25.,  2.,  4., 33.,  0., 32., 33., 32.,  0., 29.,\n",
              "          0., 17., 18.],\n",
              "        [ 0., 33., 33., 33.,  8., 26., 32., 27.,  9., 19., 29., 33., 32.,\n",
              "         33., 16., 15.],\n",
              "        [33., 25., 28.,  9.,  0., 33.,  0., 33.,  0., 33.,  4., 18., 16.,\n",
              "         33., 15., 25.],\n",
              "        [ 0., 10., 32., 10.,  4., 13., 32., 31., 33., 32., 13., 20.,  0.,\n",
              "         33.,  0., 33.],\n",
              "        [33.,  0., 33., 10., 14., 33., 33.,  1.,  0.,  1., 33.,  0., 33.,\n",
              "         32., 31., 33.],\n",
              "        [33.,  6., 31., 32., 31.,  0., 16., 19., 24., 22.,  0., 32., 31.,\n",
              "          3.,  0.,  1.],\n",
              "        [ 0., 32., 33., 10., 33., 27., 33., 33., 26., 32., 13., 33.,  0.,\n",
              "         32., 31., 28.],\n",
              "        [ 2., 33., 32.,  0., 33.,  0., 32., 33.,  9., 33., 33., 15., 17.,\n",
              "          0., 33.,  0.],\n",
              "        [13.,  0.,  8., 25.,  0., 33., 33.,  0., 33., 21., 25., 32., 33.,\n",
              "         31.,  4., 15.],\n",
              "        [32., 27., 33., 31., 32., 31.,  0., 32., 33.,  0., 25., 14., 15.,\n",
              "         32.,  7., 18.],\n",
              "        [ 3., 33., 33., 33.,  0.,  3., 33.,  0., 33., 33., 10., 33.,  0.,\n",
              "          1., 33., 22.],\n",
              "        [27., 33.,  0., 27., 33., 32., 33., 20., 19.,  3.,  0., 19., 32.,\n",
              "         14.,  7., 22.]]),\n",
              " array([[21., 12., 21., 12., 30.,  0.,  8., 19., 24., 27., 28., 18., 18.,\n",
              "          9.,  9.,  8.],\n",
              "        [15., 13., 21.,  6., 20.,  9., 18., 23., 33., 16., 28., 14., 18.,\n",
              "         19., 18., 19.],\n",
              "        [19., 21., 19., 13., 14., 15., 32., 33.,  0., 11., 22., 16., 22.,\n",
              "         20., 21., 20.],\n",
              "        [19., 26., 12., 28., 14., 21.,  0., 23.,  7., 14., 20., 17., 15.,\n",
              "         16., 15., 17.],\n",
              "        [16., 23.,  2., 32., 33., 23.,  7., 17., 15., 18., 19., 17., 15.,\n",
              "         12., 11., 12.],\n",
              "        [14., 32., 33., 33.,  0., 26., 17., 13., 33., 32., 21., 17., 15.,\n",
              "         15., 14., 13.],\n",
              "        [17., 30., 33., 16.,  8., 32., 26., 19.,  7., 32., 27., 21., 16.,\n",
              "         16., 15., 13.],\n",
              "        [25.,  9., 12., 33., 29., 33.,  0., 28.,  0., 33., 33.,  6., 10.,\n",
              "         18., 16., 18.],\n",
              "        [18., 11., 33., 32., 33.,  7., 28.,  4., 16., 19., 17., 12., 22.,\n",
              "         22., 22., 32.],\n",
              "        [ 3., 28., 32.,  0., 29., 32.,  6., 15., 17., 25., 23., 33., 32.,\n",
              "         33.,  5.,  6.],\n",
              "        [33.,  7., 13., 24., 27.,  0., 25., 32., 14., 23., 13.,  7., 14.,\n",
              "         27., 26., 32.],\n",
              "        [33.,  0.,  8., 33., 33., 33., 33., 16., 32., 31., 18.,  0.,  3.,\n",
              "          6.,  4., 33.],\n",
              "        [17., 19., 32., 33.,  0., 17., 33., 11., 33., 13., 10.,  5., 18.,\n",
              "         21., 18.,  0.],\n",
              "        [13., 29.,  0., 33., 33., 14., 19., 29., 32., 18., 10.,  9., 23.,\n",
              "         32., 25., 21.],\n",
              "        [19.,  0., 21., 19.,  5.,  0., 33.,  0., 21., 32., 33., 10., 33.,\n",
              "         25., 16., 10.],\n",
              "        [19., 23., 24., 10., 32.,  6., 32., 31.,  0.,  5., 17., 18., 18.,\n",
              "          8.,  6., 15.]]),\n",
              " array([[ 5., 29., 19.,  0., 32., 19., 33.,  3., 22.,  0., 21., 18., 27.,\n",
              "         33.,  0., 33.],\n",
              "        [22.,  0., 33., 33., 27.,  0., 33., 28.,  7., 33., 24., 15.,  3.,\n",
              "         33., 26.,  2.],\n",
              "        [14., 33., 32.,  0., 33., 32.,  0., 32., 12.,  0., 15., 26., 10.,\n",
              "         28., 32.,  4.],\n",
              "        [10., 33.,  0., 32.,  0., 33., 28.,  3., 32., 27., 33., 24., 12.,\n",
              "         18., 20.,  7.],\n",
              "        [33., 32., 21., 33., 33., 32., 33., 33.,  0., 26., 14., 18., 12.,\n",
              "         17., 10.,  6.],\n",
              "        [ 0., 26., 10., 12.,  6.,  0., 32.,  0., 33., 33.,  4.,  1.,  0.,\n",
              "          1.,  2., 17.],\n",
              "        [32., 33., 20., 12., 32.,  5., 33., 28., 33.,  5., 19., 33., 32.,\n",
              "         16.,  4.,  7.],\n",
              "        [ 3., 23., 33., 26.,  4., 27., 33.,  0., 19.,  4., 26., 33.,  0.,\n",
              "         33., 29., 19.],\n",
              "        [20., 28., 26.,  3., 33., 32., 33., 32., 33., 19., 23.,  0., 32.,\n",
              "          1.,  1.,  0.],\n",
              "        [13.,  0., 33., 17., 21., 15.,  0., 33., 16., 32., 32.,  1.,  6.,\n",
              "         32., 13.,  7.],\n",
              "        [27., 11., 21., 23., 20., 18., 22.,  2., 33., 33., 33., 33., 33.,\n",
              "          0., 32., 33.],\n",
              "        [11., 18., 26., 13., 15., 33.,  8.,  0., 22.,  0., 32.,  0., 31.,\n",
              "         33.,  0.,  7.],\n",
              "        [31., 13.,  0., 32., 17.,  0., 27., 32., 29., 26., 33., 14., 32.,\n",
              "          6., 15., 20.],\n",
              "        [ 2., 32., 33.,  1., 33., 25., 33.,  2.,  0., 16., 25., 32., 13.,\n",
              "         33., 32.,  6.],\n",
              "        [33.,  5., 33., 32., 16.,  2.,  0., 33., 33.,  1.,  0.,  6., 33.,\n",
              "          0., 33.,  0.],\n",
              "        [23., 20., 20., 16.,  8., 28., 33.,  5., 32., 33., 16., 17., 33.,\n",
              "         20., 16.,  4.]]),\n",
              " array([[33., 32., 33., 18., 27., 33., 33., 33., 33., 32., 33., 33., 33.,\n",
              "         33.,  6., 22.],\n",
              "        [24.,  0., 16., 30., 31.,  5., 32.,  9., 32.,  0., 28., 32.,  0.,\n",
              "         32., 15.,  3.],\n",
              "        [ 5., 25., 32., 15., 20., 33.,  0.,  6.,  9., 32., 31.,  0., 30.,\n",
              "          0., 16., 25.],\n",
              "        [ 4.,  0., 33.,  0., 33., 33.,  9., 16., 32.,  3.,  8.,  5.,  7.,\n",
              "         20., 32.,  1.],\n",
              "        [33.,  8., 33., 22.,  0., 21., 18., 33., 33., 31., 32., 33.,  4.,\n",
              "         33., 31.,  0.],\n",
              "        [ 0., 17., 32., 13., 32., 33., 32., 27., 33.,  0.,  1., 33., 31.,\n",
              "          0., 33., 32.],\n",
              "        [27., 33.,  0., 32., 16., 33.,  1.,  1., 33., 32., 33., 32., 33.,\n",
              "         32., 33., 22.],\n",
              "        [ 0., 33., 33., 33.,  0., 29., 18., 33., 32.,  1., 33.,  0., 33.,\n",
              "         29., 33.,  0.],\n",
              "        [ 7.,  9., 17., 29., 32., 29., 13.,  0., 33., 10., 24., 32., 27.,\n",
              "         33., 24., 33.],\n",
              "        [12., 33.,  4.,  7., 13., 33., 18., 17., 20.,  3., 33., 33., 12.,\n",
              "          6., 12., 33.],\n",
              "        [14., 15., 14.,  9.,  9., 16., 31., 32., 16.,  8., 24., 13.,  7.,\n",
              "          0., 10., 11.],\n",
              "        [12., 16., 16., 15., 20., 21.,  9.,  1., 29., 33., 30., 16., 11.,\n",
              "         11., 18., 14.],\n",
              "        [ 8., 29., 32., 32., 32., 33., 11.,  1., 32., 33., 24., 28., 12.,\n",
              "         16., 28., 14.],\n",
              "        [21., 14.,  9., 17., 13., 33., 32., 32., 33.,  0., 15., 32., 33.,\n",
              "         32., 32.,  4.],\n",
              "        [15., 33., 33.,  1.,  1., 33., 22., 23.,  6., 33., 32., 32.,  7.,\n",
              "         32., 23.,  1.],\n",
              "        [ 0., 16., 19., 17., 20., 33.,  1.,  1., 33., 16., 32., 32.,  0.,\n",
              "          5., 33.,  3.]]),\n",
              " array([[32.,  3., 31., 32.,  6.,  0., 32., 33., 32., 27., 33., 21., 33.,\n",
              "         15., 22.,  4.],\n",
              "        [33.,  6., 33., 26., 33.,  9., 33.,  0.,  1., 33.,  0.,  3., 33.,\n",
              "         32., 13.,  1.],\n",
              "        [32., 27., 33.,  0., 33., 28., 28.,  8., 24., 33., 23., 33.,  2.,\n",
              "         33., 10.,  0.],\n",
              "        [33., 26., 33., 32., 29.,  2., 32., 33., 32.,  0., 32., 33., 33.,\n",
              "         33., 31., 32.],\n",
              "        [32.,  0., 33., 23.,  0., 22., 30.,  0., 33., 33.,  3.,  4., 31.,\n",
              "          0.,  1.,  9.],\n",
              "        [33., 32., 33.,  0., 26.,  0., 33., 32., 33., 29.,  9., 32., 33.,\n",
              "         33., 13., 32.],\n",
              "        [32.,  0., 33., 32., 20., 14.,  0.,  7., 32., 28., 25., 33.,  0.,\n",
              "         33., 33., 33.],\n",
              "        [33., 32., 33., 33., 32., 33., 29., 32., 33.,  7., 10.,  0., 29.,\n",
              "         32.,  0., 33.],\n",
              "        [33.,  1.,  0.,  4., 33.,  0., 33.,  0., 32., 23., 14., 33.,  6.,\n",
              "         33., 33., 32.],\n",
              "        [32., 21., 13., 29., 32., 33., 32., 24., 22., 33., 12., 17., 16.,\n",
              "         33., 33.,  8.],\n",
              "        [33., 10.,  4., 33.,  0., 33.,  0.,  5.,  7., 13., 27., 32., 32.,\n",
              "         16., 15., 11.],\n",
              "        [24., 33., 22., 32.,  5., 32., 33., 32., 16., 19., 33., 33.,  1.,\n",
              "         19., 19., 24.],\n",
              "        [22.,  0., 33., 10.,  4., 30.,  0., 11., 32., 26., 13.,  1., 11.,\n",
              "         14., 28., 32.],\n",
              "        [32.,  5., 32., 33., 32., 33., 33., 32.,  0., 33., 16., 18., 21.,\n",
              "         33., 33., 24.],\n",
              "        [32.,  3.,  7.,  7., 32.,  0., 32.,  1., 33., 15., 32., 27., 32.,\n",
              "         32., 33., 33.],\n",
              "        [33., 23.,  8., 24., 33.,  4., 25.,  0., 23., 16.,  5.,  1.,  1.,\n",
              "          4., 18., 32.]]),\n",
              " array([[32., 33., 32., 22.,  5., 33., 10., 33., 29., 33., 33., 32., 18.,\n",
              "         15., 10., 28.],\n",
              "        [ 8., 33., 30., 22.,  7., 14., 25., 21., 33., 32.,  2., 20., 32.,\n",
              "         33., 32.,  2.],\n",
              "        [19.,  1.,  4.,  1., 33., 26., 33.,  0., 26., 23., 12.,  2.,  0.,\n",
              "          1., 16., 33.],\n",
              "        [16., 15., 22., 17., 14., 26., 17.,  2.,  8.,  5., 32., 30., 27.,\n",
              "         26., 33., 17.],\n",
              "        [32., 33., 12., 17., 24., 25., 12.,  8., 13., 33., 33., 33., 13.,\n",
              "          0., 33.,  0.],\n",
              "        [ 0., 30., 31., 32., 14.,  0., 17., 32.,  7.,  7., 33., 29., 29.,\n",
              "          6., 18., 18.],\n",
              "        [31., 33.,  0.,  8., 32., 33., 27.,  5., 32.,  8., 24.,  0., 29.,\n",
              "         33., 15., 11.],\n",
              "        [ 1., 32.,  7., 11., 33.,  1., 32., 33.,  5., 32., 28., 33., 32.,\n",
              "          0., 32., 33.],\n",
              "        [33., 30., 29., 32., 32., 33., 12., 32., 33., 32.,  0., 29.,  0.,\n",
              "         33.,  3., 31.],\n",
              "        [ 0., 33.,  1.,  4., 33., 33., 15., 31.,  7., 33., 33., 32., 15.,\n",
              "         17.,  9., 33.],\n",
              "        [16., 22., 20., 33., 32., 14.,  0., 25.,  4.,  0., 24., 30., 30.,\n",
              "         33., 21., 22.],\n",
              "        [33., 32., 22., 10., 32., 33.,  5., 24., 33., 33., 33., 33., 14.,\n",
              "         13., 15., 32.],\n",
              "        [ 1., 33.,  7.,  1., 15., 23., 21., 32.,  1., 29.,  0., 29.,  0.,\n",
              "         33.,  2., 29.],\n",
              "        [ 6., 21., 12.,  1., 12., 26., 33., 30.,  0., 32.,  1., 32.,  2.,\n",
              "         27.,  0., 28.],\n",
              "        [32., 32., 19.,  9., 16., 22.,  0., 33., 33., 31.,  3., 31.,  6.,\n",
              "         32., 33., 33.],\n",
              "        [ 0., 23., 16.,  6., 18., 24., 10., 16., 23., 33., 33.,  0., 20.,\n",
              "         19., 14.,  1.]]),\n",
              " array([[ 0., 28., 19.,  1.,  2., 18., 32.,  1.,  0., 25., 31., 32., 33.,\n",
              "         32., 33., 23.],\n",
              "        [32., 12.,  5., 33., 21.,  1.,  0., 33., 12.,  7., 33.,  1.,  2.,\n",
              "          0., 33.,  0.],\n",
              "        [20., 25., 20.,  0., 32., 33., 26., 32., 32., 31., 29., 31., 33.,\n",
              "         25., 28., 23.],\n",
              "        [ 6., 27.,  0., 33.,  2.,  4.,  0.,  1., 33., 33.,  1.,  0., 26.,\n",
              "          0., 25.,  5.],\n",
              "        [10., 33., 22., 16., 14., 18., 33., 13., 19.,  0., 16., 31.,  0.,\n",
              "         33., 33.,  1.],\n",
              "        [20.,  9., 31., 32., 30., 32.,  2., 23., 10., 30., 19.,  0., 33.,\n",
              "         32., 27.,  0.],\n",
              "        [32., 21., 33.,  0.,  5., 33., 33., 15., 19.,  4., 32., 20.,  0.,\n",
              "         33.,  0., 20.],\n",
              "        [33., 16., 33., 33., 32.,  0., 32., 33., 21., 33., 29., 28., 32.,\n",
              "         22.,  4., 15.],\n",
              "        [32., 17., 15.,  2.,  0., 33.,  0., 32., 33., 33.,  6., 11., 33.,\n",
              "         10., 14.,  0.],\n",
              "        [ 0., 32., 33., 32., 23., 33., 32., 33.,  1., 32.,  0.,  7., 32.,\n",
              "         28., 33., 15.],\n",
              "        [32.,  4., 32., 32., 33., 33., 33.,  0., 32.,  0., 33., 30.,  7.,\n",
              "          0., 23., 25.],\n",
              "        [33., 32.,  0., 18., 32.,  0., 32., 33.,  0., 20., 32.,  0., 21.,\n",
              "         16.,  0.,  7.],\n",
              "        [33., 11., 33.,  7., 33., 32.,  8., 32., 33., 33., 33., 32., 33.,\n",
              "         32., 33., 20.],\n",
              "        [ 0., 32.,  1.,  0.,  7., 33.,  0., 33.,  0., 32.,  1., 33.,  0.,\n",
              "         33., 28.,  9.],\n",
              "        [24., 33., 31., 10., 15., 32., 33., 33., 27., 33.,  0., 33., 32.,\n",
              "          0.,  4.,  2.],\n",
              "        [ 5., 11., 26.,  9., 12., 33., 23.,  0.,  8., 22., 20.,  1.,  0.,\n",
              "         33., 17., 10.]])]"
            ]
          },
          "metadata": {
            "tags": []
          },
          "execution_count": 95
        }
      ]
    },
    {
      "metadata": {
        "id": "eKhfiucP740f",
        "colab_type": "text"
      },
      "cell_type": "markdown",
      "source": [
        "## Features extraction"
      ]
    },
    {
      "metadata": {
        "id": "-zgcyGtU5O9b",
        "colab_type": "code",
        "colab": {}
      },
      "cell_type": "code",
      "source": [
        "import math, sys\n",
        "\n",
        "def update_counter(counter):\n",
        "  counter = counter + 1\n",
        "\n",
        "  if (counter % 10) == 0:\n",
        "    sys.stdout.write(\"{}%\".format(math.floor(counter/total_labels * 100)))\n",
        "  else:\n",
        "    sys.stdout.write('.')\n",
        "    \n",
        "  return counter"
      ],
      "execution_count": 0,
      "outputs": []
    },
    {
      "metadata": {
        "id": "jPQljQU4kAcq",
        "colab_type": "code",
        "outputId": "71fc3abc-c722-4cf3-b15f-71381aa8ccb7",
        "colab": {
          "base_uri": "https://localhost:8080/",
          "height": 54
        }
      },
      "cell_type": "code",
      "source": [
        "import os\n",
        "\n",
        "lbp_extractor = LBPExtractor(points=24, radius=8)\n",
        "train_images_route = \"tiny-imagenet-200/val/images\"\n",
        "\n",
        "train = []\n",
        "labels = []\n",
        "\n",
        "counter = 0\n",
        "total_labels = 200\n",
        "\n",
        "for folder_name in os.listdir(train_images_route):\n",
        "  folder_route = os.path.join(train_images_route, folder_name) # , \"/images\"\n",
        "  counter = update_counter(counter)\n",
        "\n",
        "  for image_name in os.listdir(folder_route):\n",
        "    image_route = os.path.join(folder_route, image_name)\n",
        "    \n",
        "    train.append(get_hist_from_img_route(image_route, lbp_extractor))\n",
        "    labels.append(folder_name)"
      ],
      "execution_count": 15,
      "outputs": [
        {
          "output_type": "stream",
          "text": [
            ".........5%.........10%.........15%.........20%.........25%.........30%.........35%.........40%.........45%.........50%.........55%.........60%.........65%.........70%.........75%.........80%.........85%.........90%.........95%.........100%"
          ],
          "name": "stdout"
        }
      ]
    },
    {
      "metadata": {
        "id": "XzGAOVFuhJcv",
        "colab_type": "text"
      },
      "cell_type": "markdown",
      "source": [
        "## Save featue to CSV"
      ]
    },
    {
      "metadata": {
        "id": "OJtgPcgEhOOG",
        "colab_type": "code",
        "colab": {}
      },
      "cell_type": "code",
      "source": [
        "df = pd.DataFrame(train).assign(label=labels)\n",
        "\n",
        "df.to_csv('lbp_val.csv')"
      ],
      "execution_count": 0,
      "outputs": []
    },
    {
      "metadata": {
        "id": "tBvYAzQ7iC8c",
        "colab_type": "code",
        "outputId": "8ec3a7a6-5686-4ab1-a160-2c4cae7ab88b",
        "colab": {
          "base_uri": "https://localhost:8080/",
          "height": 253
        }
      },
      "cell_type": "code",
      "source": [
        "df.head()"
      ],
      "execution_count": 17,
      "outputs": [
        {
          "output_type": "execute_result",
          "data": {
            "text/html": [
              "<div>\n",
              "<style scoped>\n",
              "    .dataframe tbody tr th:only-of-type {\n",
              "        vertical-align: middle;\n",
              "    }\n",
              "\n",
              "    .dataframe tbody tr th {\n",
              "        vertical-align: top;\n",
              "    }\n",
              "\n",
              "    .dataframe thead th {\n",
              "        text-align: right;\n",
              "    }\n",
              "</style>\n",
              "<table border=\"1\" class=\"dataframe\">\n",
              "  <thead>\n",
              "    <tr style=\"text-align: right;\">\n",
              "      <th></th>\n",
              "      <th>0</th>\n",
              "      <th>1</th>\n",
              "      <th>2</th>\n",
              "      <th>3</th>\n",
              "      <th>4</th>\n",
              "      <th>5</th>\n",
              "      <th>6</th>\n",
              "      <th>7</th>\n",
              "      <th>8</th>\n",
              "      <th>9</th>\n",
              "      <th>...</th>\n",
              "      <th>17</th>\n",
              "      <th>18</th>\n",
              "      <th>19</th>\n",
              "      <th>20</th>\n",
              "      <th>21</th>\n",
              "      <th>22</th>\n",
              "      <th>23</th>\n",
              "      <th>24</th>\n",
              "      <th>25</th>\n",
              "      <th>label</th>\n",
              "    </tr>\n",
              "  </thead>\n",
              "  <tbody>\n",
              "    <tr>\n",
              "      <th>0</th>\n",
              "      <td>0.072266</td>\n",
              "      <td>0.051270</td>\n",
              "      <td>0.023437</td>\n",
              "      <td>0.018311</td>\n",
              "      <td>0.004639</td>\n",
              "      <td>0.008789</td>\n",
              "      <td>0.011230</td>\n",
              "      <td>0.010986</td>\n",
              "      <td>0.011963</td>\n",
              "      <td>0.007812</td>\n",
              "      <td>...</td>\n",
              "      <td>0.008789</td>\n",
              "      <td>0.007324</td>\n",
              "      <td>0.013916</td>\n",
              "      <td>0.006836</td>\n",
              "      <td>0.010498</td>\n",
              "      <td>0.011230</td>\n",
              "      <td>0.019775</td>\n",
              "      <td>0.025879</td>\n",
              "      <td>0.607178</td>\n",
              "      <td>n02410509</td>\n",
              "    </tr>\n",
              "    <tr>\n",
              "      <th>1</th>\n",
              "      <td>0.066895</td>\n",
              "      <td>0.051758</td>\n",
              "      <td>0.011230</td>\n",
              "      <td>0.005371</td>\n",
              "      <td>0.003174</td>\n",
              "      <td>0.000732</td>\n",
              "      <td>0.002441</td>\n",
              "      <td>0.002686</td>\n",
              "      <td>0.004150</td>\n",
              "      <td>0.004639</td>\n",
              "      <td>...</td>\n",
              "      <td>0.009766</td>\n",
              "      <td>0.004150</td>\n",
              "      <td>0.006592</td>\n",
              "      <td>0.006836</td>\n",
              "      <td>0.007568</td>\n",
              "      <td>0.008057</td>\n",
              "      <td>0.020752</td>\n",
              "      <td>0.025635</td>\n",
              "      <td>0.712891</td>\n",
              "      <td>n02410509</td>\n",
              "    </tr>\n",
              "    <tr>\n",
              "      <th>2</th>\n",
              "      <td>0.064209</td>\n",
              "      <td>0.057373</td>\n",
              "      <td>0.010986</td>\n",
              "      <td>0.003418</td>\n",
              "      <td>0.002930</td>\n",
              "      <td>0.002930</td>\n",
              "      <td>0.004883</td>\n",
              "      <td>0.005859</td>\n",
              "      <td>0.005371</td>\n",
              "      <td>0.012695</td>\n",
              "      <td>...</td>\n",
              "      <td>0.009766</td>\n",
              "      <td>0.004639</td>\n",
              "      <td>0.006836</td>\n",
              "      <td>0.005127</td>\n",
              "      <td>0.007812</td>\n",
              "      <td>0.007568</td>\n",
              "      <td>0.017822</td>\n",
              "      <td>0.020508</td>\n",
              "      <td>0.639648</td>\n",
              "      <td>n02410509</td>\n",
              "    </tr>\n",
              "    <tr>\n",
              "      <th>3</th>\n",
              "      <td>0.051514</td>\n",
              "      <td>0.052734</td>\n",
              "      <td>0.015137</td>\n",
              "      <td>0.005859</td>\n",
              "      <td>0.003906</td>\n",
              "      <td>0.005127</td>\n",
              "      <td>0.006104</td>\n",
              "      <td>0.007324</td>\n",
              "      <td>0.008545</td>\n",
              "      <td>0.011719</td>\n",
              "      <td>...</td>\n",
              "      <td>0.008057</td>\n",
              "      <td>0.003418</td>\n",
              "      <td>0.002686</td>\n",
              "      <td>0.001953</td>\n",
              "      <td>0.003418</td>\n",
              "      <td>0.009521</td>\n",
              "      <td>0.025146</td>\n",
              "      <td>0.020508</td>\n",
              "      <td>0.686279</td>\n",
              "      <td>n02410509</td>\n",
              "    </tr>\n",
              "    <tr>\n",
              "      <th>4</th>\n",
              "      <td>0.062256</td>\n",
              "      <td>0.037598</td>\n",
              "      <td>0.018555</td>\n",
              "      <td>0.012695</td>\n",
              "      <td>0.011719</td>\n",
              "      <td>0.013428</td>\n",
              "      <td>0.016113</td>\n",
              "      <td>0.018555</td>\n",
              "      <td>0.016846</td>\n",
              "      <td>0.022217</td>\n",
              "      <td>...</td>\n",
              "      <td>0.006104</td>\n",
              "      <td>0.007568</td>\n",
              "      <td>0.007080</td>\n",
              "      <td>0.007568</td>\n",
              "      <td>0.004639</td>\n",
              "      <td>0.009766</td>\n",
              "      <td>0.018555</td>\n",
              "      <td>0.028564</td>\n",
              "      <td>0.564209</td>\n",
              "      <td>n02410509</td>\n",
              "    </tr>\n",
              "  </tbody>\n",
              "</table>\n",
              "<p>5 rows × 27 columns</p>\n",
              "</div>"
            ],
            "text/plain": [
              "          0         1         2         3         4         5         6  \\\n",
              "0  0.072266  0.051270  0.023437  0.018311  0.004639  0.008789  0.011230   \n",
              "1  0.066895  0.051758  0.011230  0.005371  0.003174  0.000732  0.002441   \n",
              "2  0.064209  0.057373  0.010986  0.003418  0.002930  0.002930  0.004883   \n",
              "3  0.051514  0.052734  0.015137  0.005859  0.003906  0.005127  0.006104   \n",
              "4  0.062256  0.037598  0.018555  0.012695  0.011719  0.013428  0.016113   \n",
              "\n",
              "          7         8         9  ...        17        18        19        20  \\\n",
              "0  0.010986  0.011963  0.007812  ...  0.008789  0.007324  0.013916  0.006836   \n",
              "1  0.002686  0.004150  0.004639  ...  0.009766  0.004150  0.006592  0.006836   \n",
              "2  0.005859  0.005371  0.012695  ...  0.009766  0.004639  0.006836  0.005127   \n",
              "3  0.007324  0.008545  0.011719  ...  0.008057  0.003418  0.002686  0.001953   \n",
              "4  0.018555  0.016846  0.022217  ...  0.006104  0.007568  0.007080  0.007568   \n",
              "\n",
              "         21        22        23        24        25      label  \n",
              "0  0.010498  0.011230  0.019775  0.025879  0.607178  n02410509  \n",
              "1  0.007568  0.008057  0.020752  0.025635  0.712891  n02410509  \n",
              "2  0.007812  0.007568  0.017822  0.020508  0.639648  n02410509  \n",
              "3  0.003418  0.009521  0.025146  0.020508  0.686279  n02410509  \n",
              "4  0.004639  0.009766  0.018555  0.028564  0.564209  n02410509  \n",
              "\n",
              "[5 rows x 27 columns]"
            ]
          },
          "metadata": {
            "tags": []
          },
          "execution_count": 17
        }
      ]
    },
    {
      "metadata": {
        "id": "2eROIBaTivi8",
        "colab_type": "code",
        "colab": {}
      },
      "cell_type": "code",
      "source": [
        "!cp 'lbp_val.csv' 'drive/My Drive/Colab Notebooks/TFM-image-feature-selection/datasets/lbp_val.csv'"
      ],
      "execution_count": 0,
      "outputs": []
    },
    {
      "metadata": {
        "id": "47vvVUoW7_T9",
        "colab_type": "text"
      },
      "cell_type": "markdown",
      "source": [
        "## Data exploration"
      ]
    },
    {
      "metadata": {
        "id": "dwfTf6Pn8AY7",
        "colab_type": "code",
        "outputId": "0ccd236e-0dc9-4e14-cbea-38699893f566",
        "colab": {
          "base_uri": "https://localhost:8080/",
          "height": 346
        }
      },
      "cell_type": "code",
      "source": [
        "import pandas as pd\n",
        "\n",
        "pd.DataFrame(train).describe()"
      ],
      "execution_count": 0,
      "outputs": [
        {
          "output_type": "execute_result",
          "data": {
            "text/html": [
              "<div>\n",
              "<style scoped>\n",
              "    .dataframe tbody tr th:only-of-type {\n",
              "        vertical-align: middle;\n",
              "    }\n",
              "\n",
              "    .dataframe tbody tr th {\n",
              "        vertical-align: top;\n",
              "    }\n",
              "\n",
              "    .dataframe thead th {\n",
              "        text-align: right;\n",
              "    }\n",
              "</style>\n",
              "<table border=\"1\" class=\"dataframe\">\n",
              "  <thead>\n",
              "    <tr style=\"text-align: right;\">\n",
              "      <th></th>\n",
              "      <th>0</th>\n",
              "      <th>1</th>\n",
              "      <th>2</th>\n",
              "      <th>3</th>\n",
              "      <th>4</th>\n",
              "      <th>5</th>\n",
              "      <th>6</th>\n",
              "      <th>7</th>\n",
              "      <th>8</th>\n",
              "      <th>9</th>\n",
              "      <th>...</th>\n",
              "      <th>16</th>\n",
              "      <th>17</th>\n",
              "      <th>18</th>\n",
              "      <th>19</th>\n",
              "      <th>20</th>\n",
              "      <th>21</th>\n",
              "      <th>22</th>\n",
              "      <th>23</th>\n",
              "      <th>24</th>\n",
              "      <th>25</th>\n",
              "    </tr>\n",
              "  </thead>\n",
              "  <tbody>\n",
              "    <tr>\n",
              "      <th>count</th>\n",
              "      <td>100000.000000</td>\n",
              "      <td>100000.000000</td>\n",
              "      <td>100000.000000</td>\n",
              "      <td>100000.000000</td>\n",
              "      <td>100000.000000</td>\n",
              "      <td>100000.000000</td>\n",
              "      <td>100000.000000</td>\n",
              "      <td>100000.000000</td>\n",
              "      <td>100000.000000</td>\n",
              "      <td>100000.000000</td>\n",
              "      <td>...</td>\n",
              "      <td>100000.000000</td>\n",
              "      <td>100000.000000</td>\n",
              "      <td>100000.000000</td>\n",
              "      <td>100000.000000</td>\n",
              "      <td>100000.000000</td>\n",
              "      <td>100000.000000</td>\n",
              "      <td>100000.000000</td>\n",
              "      <td>100000.000000</td>\n",
              "      <td>100000.000000</td>\n",
              "      <td>100000.000000</td>\n",
              "    </tr>\n",
              "    <tr>\n",
              "      <th>mean</th>\n",
              "      <td>0.053729</td>\n",
              "      <td>0.044994</td>\n",
              "      <td>0.018436</td>\n",
              "      <td>0.012932</td>\n",
              "      <td>0.010371</td>\n",
              "      <td>0.009586</td>\n",
              "      <td>0.009381</td>\n",
              "      <td>0.011624</td>\n",
              "      <td>0.011979</td>\n",
              "      <td>0.012944</td>\n",
              "      <td>...</td>\n",
              "      <td>0.003858</td>\n",
              "      <td>0.007257</td>\n",
              "      <td>0.003263</td>\n",
              "      <td>0.005835</td>\n",
              "      <td>0.003377</td>\n",
              "      <td>0.005719</td>\n",
              "      <td>0.007338</td>\n",
              "      <td>0.021486</td>\n",
              "      <td>0.030551</td>\n",
              "      <td>0.634631</td>\n",
              "    </tr>\n",
              "    <tr>\n",
              "      <th>std</th>\n",
              "      <td>0.013386</td>\n",
              "      <td>0.010562</td>\n",
              "      <td>0.006662</td>\n",
              "      <td>0.006550</td>\n",
              "      <td>0.006391</td>\n",
              "      <td>0.006494</td>\n",
              "      <td>0.006745</td>\n",
              "      <td>0.008760</td>\n",
              "      <td>0.009502</td>\n",
              "      <td>0.011329</td>\n",
              "      <td>...</td>\n",
              "      <td>0.003275</td>\n",
              "      <td>0.004663</td>\n",
              "      <td>0.002453</td>\n",
              "      <td>0.003106</td>\n",
              "      <td>0.002408</td>\n",
              "      <td>0.003290</td>\n",
              "      <td>0.003092</td>\n",
              "      <td>0.005865</td>\n",
              "      <td>0.026470</td>\n",
              "      <td>0.084986</td>\n",
              "    </tr>\n",
              "    <tr>\n",
              "      <th>min</th>\n",
              "      <td>0.000000</td>\n",
              "      <td>0.000000</td>\n",
              "      <td>0.000000</td>\n",
              "      <td>0.000000</td>\n",
              "      <td>0.000000</td>\n",
              "      <td>0.000000</td>\n",
              "      <td>0.000000</td>\n",
              "      <td>0.000000</td>\n",
              "      <td>0.000000</td>\n",
              "      <td>0.000000</td>\n",
              "      <td>...</td>\n",
              "      <td>0.000000</td>\n",
              "      <td>0.000000</td>\n",
              "      <td>0.000000</td>\n",
              "      <td>0.000000</td>\n",
              "      <td>0.000000</td>\n",
              "      <td>0.000000</td>\n",
              "      <td>0.000000</td>\n",
              "      <td>0.000000</td>\n",
              "      <td>0.000000</td>\n",
              "      <td>0.023926</td>\n",
              "    </tr>\n",
              "    <tr>\n",
              "      <th>25%</th>\n",
              "      <td>0.045654</td>\n",
              "      <td>0.038818</td>\n",
              "      <td>0.013916</td>\n",
              "      <td>0.008301</td>\n",
              "      <td>0.005859</td>\n",
              "      <td>0.004883</td>\n",
              "      <td>0.004639</td>\n",
              "      <td>0.005371</td>\n",
              "      <td>0.005371</td>\n",
              "      <td>0.005371</td>\n",
              "      <td>...</td>\n",
              "      <td>0.001709</td>\n",
              "      <td>0.004883</td>\n",
              "      <td>0.001709</td>\n",
              "      <td>0.003906</td>\n",
              "      <td>0.001709</td>\n",
              "      <td>0.003662</td>\n",
              "      <td>0.005127</td>\n",
              "      <td>0.017822</td>\n",
              "      <td>0.022705</td>\n",
              "      <td>0.596924</td>\n",
              "    </tr>\n",
              "    <tr>\n",
              "      <th>50%</th>\n",
              "      <td>0.055176</td>\n",
              "      <td>0.045898</td>\n",
              "      <td>0.017822</td>\n",
              "      <td>0.011963</td>\n",
              "      <td>0.009033</td>\n",
              "      <td>0.008057</td>\n",
              "      <td>0.007812</td>\n",
              "      <td>0.009521</td>\n",
              "      <td>0.009521</td>\n",
              "      <td>0.009766</td>\n",
              "      <td>...</td>\n",
              "      <td>0.002930</td>\n",
              "      <td>0.006348</td>\n",
              "      <td>0.002686</td>\n",
              "      <td>0.005371</td>\n",
              "      <td>0.002930</td>\n",
              "      <td>0.005127</td>\n",
              "      <td>0.006836</td>\n",
              "      <td>0.021729</td>\n",
              "      <td>0.027832</td>\n",
              "      <td>0.655029</td>\n",
              "    </tr>\n",
              "    <tr>\n",
              "      <th>75%</th>\n",
              "      <td>0.063232</td>\n",
              "      <td>0.052246</td>\n",
              "      <td>0.022217</td>\n",
              "      <td>0.016357</td>\n",
              "      <td>0.013428</td>\n",
              "      <td>0.012695</td>\n",
              "      <td>0.012451</td>\n",
              "      <td>0.015381</td>\n",
              "      <td>0.015625</td>\n",
              "      <td>0.016846</td>\n",
              "      <td>...</td>\n",
              "      <td>0.005127</td>\n",
              "      <td>0.008545</td>\n",
              "      <td>0.004150</td>\n",
              "      <td>0.007080</td>\n",
              "      <td>0.004395</td>\n",
              "      <td>0.007080</td>\n",
              "      <td>0.009033</td>\n",
              "      <td>0.025391</td>\n",
              "      <td>0.032959</td>\n",
              "      <td>0.694580</td>\n",
              "    </tr>\n",
              "    <tr>\n",
              "      <th>max</th>\n",
              "      <td>0.158936</td>\n",
              "      <td>0.108154</td>\n",
              "      <td>0.082031</td>\n",
              "      <td>0.083496</td>\n",
              "      <td>0.103760</td>\n",
              "      <td>0.079346</td>\n",
              "      <td>0.070312</td>\n",
              "      <td>0.099365</td>\n",
              "      <td>0.120850</td>\n",
              "      <td>0.154053</td>\n",
              "      <td>...</td>\n",
              "      <td>0.043213</td>\n",
              "      <td>0.118408</td>\n",
              "      <td>0.044434</td>\n",
              "      <td>0.064453</td>\n",
              "      <td>0.040283</td>\n",
              "      <td>0.069580</td>\n",
              "      <td>0.037842</td>\n",
              "      <td>0.088623</td>\n",
              "      <td>0.928467</td>\n",
              "      <td>0.825684</td>\n",
              "    </tr>\n",
              "  </tbody>\n",
              "</table>\n",
              "<p>8 rows × 26 columns</p>\n",
              "</div>"
            ],
            "text/plain": [
              "                  0              1              2              3   \\\n",
              "count  100000.000000  100000.000000  100000.000000  100000.000000   \n",
              "mean        0.053729       0.044994       0.018436       0.012932   \n",
              "std         0.013386       0.010562       0.006662       0.006550   \n",
              "min         0.000000       0.000000       0.000000       0.000000   \n",
              "25%         0.045654       0.038818       0.013916       0.008301   \n",
              "50%         0.055176       0.045898       0.017822       0.011963   \n",
              "75%         0.063232       0.052246       0.022217       0.016357   \n",
              "max         0.158936       0.108154       0.082031       0.083496   \n",
              "\n",
              "                  4              5              6              7   \\\n",
              "count  100000.000000  100000.000000  100000.000000  100000.000000   \n",
              "mean        0.010371       0.009586       0.009381       0.011624   \n",
              "std         0.006391       0.006494       0.006745       0.008760   \n",
              "min         0.000000       0.000000       0.000000       0.000000   \n",
              "25%         0.005859       0.004883       0.004639       0.005371   \n",
              "50%         0.009033       0.008057       0.007812       0.009521   \n",
              "75%         0.013428       0.012695       0.012451       0.015381   \n",
              "max         0.103760       0.079346       0.070312       0.099365   \n",
              "\n",
              "                  8              9       ...                   16  \\\n",
              "count  100000.000000  100000.000000      ...        100000.000000   \n",
              "mean        0.011979       0.012944      ...             0.003858   \n",
              "std         0.009502       0.011329      ...             0.003275   \n",
              "min         0.000000       0.000000      ...             0.000000   \n",
              "25%         0.005371       0.005371      ...             0.001709   \n",
              "50%         0.009521       0.009766      ...             0.002930   \n",
              "75%         0.015625       0.016846      ...             0.005127   \n",
              "max         0.120850       0.154053      ...             0.043213   \n",
              "\n",
              "                  17             18             19             20  \\\n",
              "count  100000.000000  100000.000000  100000.000000  100000.000000   \n",
              "mean        0.007257       0.003263       0.005835       0.003377   \n",
              "std         0.004663       0.002453       0.003106       0.002408   \n",
              "min         0.000000       0.000000       0.000000       0.000000   \n",
              "25%         0.004883       0.001709       0.003906       0.001709   \n",
              "50%         0.006348       0.002686       0.005371       0.002930   \n",
              "75%         0.008545       0.004150       0.007080       0.004395   \n",
              "max         0.118408       0.044434       0.064453       0.040283   \n",
              "\n",
              "                  21             22             23             24  \\\n",
              "count  100000.000000  100000.000000  100000.000000  100000.000000   \n",
              "mean        0.005719       0.007338       0.021486       0.030551   \n",
              "std         0.003290       0.003092       0.005865       0.026470   \n",
              "min         0.000000       0.000000       0.000000       0.000000   \n",
              "25%         0.003662       0.005127       0.017822       0.022705   \n",
              "50%         0.005127       0.006836       0.021729       0.027832   \n",
              "75%         0.007080       0.009033       0.025391       0.032959   \n",
              "max         0.069580       0.037842       0.088623       0.928467   \n",
              "\n",
              "                  25  \n",
              "count  100000.000000  \n",
              "mean        0.634631  \n",
              "std         0.084986  \n",
              "min         0.023926  \n",
              "25%         0.596924  \n",
              "50%         0.655029  \n",
              "75%         0.694580  \n",
              "max         0.825684  \n",
              "\n",
              "[8 rows x 26 columns]"
            ]
          },
          "metadata": {
            "tags": []
          },
          "execution_count": 6
        }
      ]
    },
    {
      "metadata": {
        "id": "ytZ4ls9j8luk",
        "colab_type": "code",
        "outputId": "0e353ba0-e27f-4936-8e6a-853916122038",
        "colab": {
          "base_uri": "https://localhost:8080/",
          "height": 447
        }
      },
      "cell_type": "code",
      "source": [
        "pd.DataFrame(train).plot.kde()"
      ],
      "execution_count": 0,
      "outputs": [
        {
          "output_type": "execute_result",
          "data": {
            "text/plain": [
              "<matplotlib.axes._subplots.AxesSubplot at 0x7fa7fc695048>"
            ]
          },
          "metadata": {
            "tags": []
          },
          "execution_count": 7
        },
        {
          "output_type": "display_data",
          "data": {
            "image/png": "[encoded data removed]",
            "text/plain": [
              "<matplotlib.figure.Figure at 0x7fa7fc663ba8>"
            ]
          },
          "metadata": {
            "tags": []
          }
        }
      ]
    },
    {
      "metadata": {
        "id": "FGvK40pl9hQG",
        "colab_type": "code",
        "colab": {}
      },
      "cell_type": "code",
      "source": [
        "from sklearn import preprocessing\n",
        "\n",
        "train = preprocessing.scale(train, axis=0)"
      ],
      "execution_count": 0,
      "outputs": []
    },
    {
      "metadata": {
        "id": "7Bvg1CG798md",
        "colab_type": "code",
        "outputId": "83ef85f4-3ca3-445f-af70-d24ea17d2cc4",
        "colab": {
          "base_uri": "https://localhost:8080/",
          "height": 447
        }
      },
      "cell_type": "code",
      "source": [
        "pd.DataFrame(train).plot.kde()"
      ],
      "execution_count": 0,
      "outputs": [
        {
          "output_type": "execute_result",
          "data": {
            "text/plain": [
              "<matplotlib.axes._subplots.AxesSubplot at 0x7fa7f8a6d780>"
            ]
          },
          "metadata": {
            "tags": []
          },
          "execution_count": 9
        },
        {
          "output_type": "display_data",
          "data": {
            "image/png": "[encoded data removed]",
            "text/plain": [
              "<matplotlib.figure.Figure at 0x7fa7fceddef0>"
            ]
          },
          "metadata": {
            "tags": []
          }
        }
      ]
    },
    {
      "metadata": {
        "id": "_14Agq0W7_r6",
        "colab_type": "text"
      },
      "cell_type": "markdown",
      "source": [
        "## Training a classification model"
      ]
    },
    {
      "metadata": {
        "id": "yGLb-AGv_y_q",
        "colab_type": "code",
        "colab": {}
      },
      "cell_type": "code",
      "source": [
        "import pandas as pd\n",
        "\n",
        "train = pd.read_csv('drive/My Drive/Colab Notebooks/TFM-image-feature-selection/datasets/lbp.csv')\n",
        "test = pd.read_csv('drive/My Drive/Colab Notebooks/TFM-image-feature-selection/datasets/lbp_val.csv')\n",
        "\n",
        "y = train[['label']].values.ravel()\n",
        "X = train.drop(['label', 'Unnamed: 0'], axis=1)\n",
        "\n",
        "y_test = test[['label']].values.ravel()\n",
        "X_test = test.drop(['label', 'Unnamed: 0'], axis=1)"
      ],
      "execution_count": 0,
      "outputs": []
    },
    {
      "metadata": {
        "id": "rn_TrIEkHuDK",
        "colab_type": "text"
      },
      "cell_type": "markdown",
      "source": [
        "### Gaussian Naive Bayes"
      ]
    },
    {
      "metadata": {
        "id": "hQiU1mnDGPcy",
        "colab_type": "code",
        "outputId": "6d97c769-6ba8-4eea-e894-092628ecb4f7",
        "colab": {
          "base_uri": "https://localhost:8080/",
          "height": 34
        }
      },
      "cell_type": "code",
      "source": [
        "from sklearn.naive_bayes import GaussianNB\n",
        "from sklearn.metrics import accuracy_score\n",
        "\n",
        "gnb = GaussianNB()\n",
        "model = gnb.fit(X, y)\n",
        "\n",
        "y_predict = model.predict(X_test)\n",
        "accuracy_score(y_test, y_predict)"
      ],
      "execution_count": 20,
      "outputs": [
        {
          "output_type": "execute_result",
          "data": {
            "text/plain": [
              "0.005"
            ]
          },
          "metadata": {
            "tags": []
          },
          "execution_count": 20
        }
      ]
    },
    {
      "metadata": {
        "id": "XwZFVfYQMC-B",
        "colab_type": "text"
      },
      "cell_type": "markdown",
      "source": [
        "### Random Forest"
      ]
    },
    {
      "metadata": {
        "id": "_n_xHA76MFhi",
        "colab_type": "code",
        "outputId": "aa531400-5fbd-4e13-f657-cc2a91705c0d",
        "colab": {
          "base_uri": "https://localhost:8080/",
          "height": 34
        }
      },
      "cell_type": "code",
      "source": [
        "from sklearn.ensemble import RandomForestClassifier\n",
        "from sklearn.metrics import accuracy_score\n",
        "\n",
        "model = RandomForestClassifier(n_estimators=3000, max_depth=5, random_state=0).fit(X, y)\n",
        "\n",
        "y_predict = model.predict(X_test)\n",
        "accuracy_score(y_test, y_predict)"
      ],
      "execution_count": 28,
      "outputs": [
        {
          "output_type": "execute_result",
          "data": {
            "text/plain": [
              "0.005"
            ]
          },
          "metadata": {
            "tags": []
          },
          "execution_count": 28
        }
      ]
    },
    {
      "metadata": {
        "id": "YvyRcA-LH0LN",
        "colab_type": "text"
      },
      "cell_type": "markdown",
      "source": [
        "### SVC"
      ]
    },
    {
      "metadata": {
        "id": "8gUISXTIm0-O",
        "colab_type": "code",
        "outputId": "24f7038a-4b64-4ed0-8d32-514226b25a36",
        "colab": {
          "base_uri": "https://localhost:8080/",
          "height": 217
        }
      },
      "cell_type": "code",
      "source": [
        "from sklearn.svm import SVC\n",
        "from sklearn.model_selection import cross_val_score\n",
        "\n",
        "model = SVC()\n",
        "\n",
        "scores = cross_val_score(model, train, labels, cv=5)"
      ],
      "execution_count": 0,
      "outputs": [
        {
          "output_type": "stream",
          "text": [
            "/usr/local/lib/python3.6/dist-packages/sklearn/svm/base.py:196: FutureWarning: The default value of gamma will change from 'auto' to 'scale' in version 0.22 to account better for unscaled features. Set gamma explicitly to 'auto' or 'scale' to avoid this warning.\n",
            "  \"avoid this warning.\", FutureWarning)\n",
            "/usr/local/lib/python3.6/dist-packages/sklearn/svm/base.py:196: FutureWarning: The default value of gamma will change from 'auto' to 'scale' in version 0.22 to account better for unscaled features. Set gamma explicitly to 'auto' or 'scale' to avoid this warning.\n",
            "  \"avoid this warning.\", FutureWarning)\n",
            "/usr/local/lib/python3.6/dist-packages/sklearn/svm/base.py:196: FutureWarning: The default value of gamma will change from 'auto' to 'scale' in version 0.22 to account better for unscaled features. Set gamma explicitly to 'auto' or 'scale' to avoid this warning.\n",
            "  \"avoid this warning.\", FutureWarning)\n",
            "/usr/local/lib/python3.6/dist-packages/sklearn/svm/base.py:196: FutureWarning: The default value of gamma will change from 'auto' to 'scale' in version 0.22 to account better for unscaled features. Set gamma explicitly to 'auto' or 'scale' to avoid this warning.\n",
            "  \"avoid this warning.\", FutureWarning)\n",
            "/usr/local/lib/python3.6/dist-packages/sklearn/svm/base.py:196: FutureWarning: The default value of gamma will change from 'auto' to 'scale' in version 0.22 to account better for unscaled features. Set gamma explicitly to 'auto' or 'scale' to avoid this warning.\n",
            "  \"avoid this warning.\", FutureWarning)\n"
          ],
          "name": "stderr"
        }
      ]
    },
    {
      "metadata": {
        "id": "zwYj6VdejfOj",
        "colab_type": "code",
        "outputId": "50640b6d-979b-4fa1-f985-c6778a9f512f",
        "colab": {
          "base_uri": "https://localhost:8080/",
          "height": 35
        }
      },
      "cell_type": "code",
      "source": [
        "scores"
      ],
      "execution_count": 0,
      "outputs": [
        {
          "output_type": "execute_result",
          "data": {
            "text/plain": [
              "array([0.04575, 0.0446 , 0.04515, 0.0455 , 0.04065])"
            ]
          },
          "metadata": {
            "tags": []
          },
          "execution_count": 17
        }
      ]
    },
    {
      "metadata": {
        "id": "PrnazjqfnpNZ",
        "colab_type": "code",
        "outputId": "a90438d6-e144-4fc9-924a-dfd9bbc05625",
        "colab": {
          "base_uri": "https://localhost:8080/",
          "height": 55
        }
      },
      "cell_type": "code",
      "source": [
        "import pickle\n",
        "\n",
        "pickle.dumps(model)"
      ],
      "execution_count": 0,
      "outputs": [
        {
          "output_type": "execute_result",
          "data": {
            "text/plain": [
              "b'\\x80\\x03csklearn.svm.classes\\nSVC\\nq\\x00)\\x81q\\x01}q\\x02(X\\x17\\x00\\x00\\x00decision_function_shapeq\\x03X\\x03\\x00\\x00\\x00ovrq\\x04X\\x06\\x00\\x00\\x00kernelq\\x05X\\x03\\x00\\x00\\x00rbfq\\x06X\\x06\\x00\\x00\\x00degreeq\\x07K\\x03X\\x05\\x00\\x00\\x00gammaq\\x08X\\x0f\\x00\\x00\\x00auto_deprecatedq\\tX\\x05\\x00\\x00\\x00coef0q\\nG\\x00\\x00\\x00\\x00\\x00\\x00\\x00\\x00X\\x03\\x00\\x00\\x00tolq\\x0bG?PbM\\xd2\\xf1\\xa9\\xfcX\\x01\\x00\\x00\\x00Cq\\x0cG?\\xf0\\x00\\x00\\x00\\x00\\x00\\x00X\\x02\\x00\\x00\\x00nuq\\rG\\x00\\x00\\x00\\x00\\x00\\x00\\x00\\x00X\\x07\\x00\\x00\\x00epsilonq\\x0eG\\x00\\x00\\x00\\x00\\x00\\x00\\x00\\x00X\\t\\x00\\x00\\x00shrinkingq\\x0f\\x88X\\x0b\\x00\\x00\\x00probabilityq\\x10\\x89X\\n\\x00\\x00\\x00cache_sizeq\\x11K\\xc8X\\x0c\\x00\\x00\\x00class_weightq\\x12NX\\x07\\x00\\x00\\x00verboseq\\x13\\x89X\\x08\\x00\\x00\\x00max_iterq\\x14J\\xff\\xff\\xff\\xffX\\x0c\\x00\\x00\\x00random_stateq\\x15NX\\x10\\x00\\x00\\x00_sklearn_versionq\\x16X\\x06\\x00\\x00\\x000.20.1q\\x17ub.'"
            ]
          },
          "metadata": {
            "tags": []
          },
          "execution_count": 22
        }
      ]
    },
    {
      "metadata": {
        "id": "kS1OsQC_rWDp",
        "colab_type": "code",
        "colab": {}
      },
      "cell_type": "code",
      "source": [
        "!cp 'lbp_svc' 'gdrive/My Drive/Colab Notebooks/TFM-image-feature-selection/lbp_svc'"
      ],
      "execution_count": 0,
      "outputs": []
    },
    {
      "metadata": {
        "id": "_dGLCH5sumZ-",
        "colab_type": "text"
      },
      "cell_type": "markdown",
      "source": [
        "## Debug"
      ]
    },
    {
      "metadata": {
        "id": "hl9mKDkzrcxc",
        "colab_type": "code",
        "colab": {
          "base_uri": "https://localhost:8080/",
          "height": 51
        },
        "outputId": "4e885676-6157-47d9-c74d-115f5a4f5bff"
      },
      "cell_type": "code",
      "source": [
        "y_predict"
      ],
      "execution_count": 22,
      "outputs": [
        {
          "output_type": "execute_result",
          "data": {
            "text/plain": [
              "array(['n02917067', 'n02917067', 'n02917067', ..., 'n02917067',\n",
              "       'n02917067', 'n02917067'], dtype=object)"
            ]
          },
          "metadata": {
            "tags": []
          },
          "execution_count": 22
        }
      ]
    },
    {
      "metadata": {
        "id": "70KKMBGtuqJy",
        "colab_type": "code",
        "colab": {
          "base_uri": "https://localhost:8080/",
          "height": 51
        },
        "outputId": "dfbb1897-c8bf-4149-bd94-31a359d9952a"
      },
      "cell_type": "code",
      "source": [
        "y_test"
      ],
      "execution_count": 24,
      "outputs": [
        {
          "output_type": "execute_result",
          "data": {
            "text/plain": [
              "array(['n02410509', 'n02410509', 'n02410509', ..., 'n04251144',\n",
              "       'n04251144', 'n04251144'], dtype=object)"
            ]
          },
          "metadata": {
            "tags": []
          },
          "execution_count": 24
        }
      ]
    },
    {
      "metadata": {
        "id": "YQANFCeDusot",
        "colab_type": "code",
        "colab": {}
      },
      "cell_type": "code",
      "source": [
        ""
      ],
      "execution_count": 0,
      "outputs": []
    }
  ]
}